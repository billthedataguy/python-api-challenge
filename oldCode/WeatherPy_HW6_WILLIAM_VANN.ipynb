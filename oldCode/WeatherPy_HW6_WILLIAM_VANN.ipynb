{
 "cells": [
  {
   "cell_type": "markdown",
   "metadata": {},
   "source": [
    "# William Vann - Homework 6\n",
    "\n",
    "### **Principal Findings:**\n",
    "\n",
    "(1) My linear regression analysis for a random sample of approximately 500 world cities shows a strong correlation between **temperature** and **distance from the equator**. The first scatter plot below nicely visualizes that temperatures go up as you get nearer to the equator (latitude = 0), and go down as you get further from the equator.\n",
    "\n",
    "(2) Additional linear regression analyses on this dataset show no meaningful correlations between latitude and the following features: _humidity, cloudiness, wind speed_. "
   ]
  },
  {
   "cell_type": "markdown",
   "metadata": {},
   "source": [
    "# WeatherPy\n",
    "----\n",
    "\n",
    "#### Note\n",
    "* Instructions have been included for each segment. You do not have to follow them exactly, but they are included to help you think through the steps."
   ]
  },
  {
   "cell_type": "code",
   "execution_count": null,
   "metadata": {
    "scrolled": true
   },
   "outputs": [],
   "source": [
    "# Dependencies and Setup\n",
    "\n",
    "import datetime\n",
    "import matplotlib.pyplot as plt\n",
    "import pandas as pd\n",
    "import numpy as np\n",
    "import requests\n",
    "import time\n",
    "from scipy.stats import linregress, pearsonr\n",
    "from pprint import pprint\n",
    "\n",
    "# Import API key\n",
    "\n",
    "from api_keys import weather_api_key\n",
    "\n",
    "# Incorporated citipy to determine city based on latitude and longitude\n",
    "\n",
    "from citipy import citipy\n",
    "\n",
    "# Output File (CSV)\n",
    "\n",
    "today_date = datetime.date.today()\n",
    "\n",
    "output_data_file = f\"../output_data/worldcities{today_date}.csv\"\n",
    "\n",
    "# Range of latitudes and longitudes\n",
    "\n",
    "lat_range = (-90, 90)\n",
    "lng_range = (-180, 180)"
   ]
  },
  {
   "cell_type": "markdown",
   "metadata": {},
   "source": [
    "## Generate Cities List"
   ]
  },
  {
   "cell_type": "code",
   "execution_count": null,
   "metadata": {},
   "outputs": [],
   "source": [
    "# List for holding lat_lngs and cities\n",
    "\n",
    "lat_lngs = []\n",
    "cities = []\n",
    "\n",
    "# Create a set of random lat and lng combinations\n",
    "\n",
    "lats = np.random.uniform(lat_range[0], lat_range[1], size=1500)\n",
    "lngs = np.random.uniform(lng_range[0], lng_range[1], size=1500)\n",
    "lat_lngs = zip(lats, lngs)\n",
    "\n",
    "# Identify nearest city for each lat, lng combination\n",
    "\n",
    "for lat_lng in lat_lngs:\n",
    "    city = citipy.nearest_city(lat_lng[0], lat_lng[1]).city_name\n",
    "    \n",
    "    # If the city is unique, then add it to a our cities list\n",
    "    \n",
    "    if city not in cities:\n",
    "        cities.append(city)\n",
    "\n",
    "# Print the city count to confirm sufficient count\n",
    "\n",
    "len(cities)"
   ]
  },
  {
   "cell_type": "markdown",
   "metadata": {},
   "source": [
    "### Perform API Calls\n",
    "* Perform a weather check on each city using a series of successive API calls.\n",
    "* Include a print log of each city as it'sbeing processed (with the city number and city name).\n"
   ]
  },
  {
   "cell_type": "code",
   "execution_count": null,
   "metadata": {
    "scrolled": true
   },
   "outputs": [],
   "source": [
    "# Populate cities_dict with imperial weather data from OpenWeatherMap API\n",
    "    \n",
    "base_url = \"http://api.openweathermap.org/data/2.5/weather?\"\n",
    "api_key = weather_api_key\n",
    "units = \"imperial\"\n",
    "\n",
    "api_call_log = f\"../output_data/api_call_log{today_date}.txt\"\n",
    "\n",
    "cities_dict = {}\n",
    "\n",
    "with open(api_call_log, \"a\") as logfile:\n",
    "    \n",
    "    for num,city in enumerate(cities[:10]):\n",
    "\n",
    "        query_url = f\"{base_url}appid={api_key}&q={city}&units={units}\"\n",
    "\n",
    "        weather_response = requests.get(query_url)\n",
    "        weather_json = weather_response.json()\n",
    "\n",
    "        # Structure and initialize cities_dict\n",
    "\n",
    "        cities_dict[city] = {\n",
    "\n",
    "                \"JSON\": weather_json, \"DATE\": \"NULL\", \"CITY\": \"NULL\", \"COUNTRY\": \"NULL\",\n",
    "                \"LAT\": 0.0, \"LNG\": 0.0, \"MAX_TEMP\": 0.0, \"HUMIDITY\": 0.0, \n",
    "                \"CLOUDINESS\": 0.0, \"WIND_SPEED\": 0.0    \n",
    "\n",
    "                            }\n",
    "\n",
    "        # Add relevant data points from json to cities_dict\n",
    "\n",
    "        try:\n",
    "\n",
    "            cities_dict[city][\"DATE\"] = weather_json[\"dt\"]\n",
    "            cities_dict[city][\"CITY\"] = weather_json[\"name\"]\n",
    "            cities_dict[city][\"COUNTRY\"] = weather_json[\"sys\"][\"country\"]         \n",
    "            cities_dict[city][\"LAT\"] = weather_json[\"coord\"][\"lat\"]\n",
    "            cities_dict[city][\"LNG\"] = weather_json[\"coord\"][\"lon\"]\n",
    "            cities_dict[city][\"MAX_TEMP\"] = weather_json[\"main\"][\"temp\"]\n",
    "            cities_dict[city][\"HUMIDITY\"] = weather_json[\"main\"][\"humidity\"]\n",
    "            cities_dict[city][\"CLOUDINESS\"] = weather_json[\"clouds\"][\"all\"]     \n",
    "            cities_dict[city][\"WIND_SPEED\"] =  weather_json[\"wind\"][\"speed\"]\n",
    "\n",
    "        except (KeyError, IndexError):\n",
    "\n",
    "            print(f\"{num} Info missing for {city} ... skipping!\")\n",
    "            logfile.write(f\"{num} Info missing for {city} ... skipping!\\n\")\n",
    "            continue\n",
    "\n",
    "        else:\n",
    "\n",
    "            print(f\"{num} Working on {city} ...\")\n",
    "            logfile.write(f\"{num} Working on {city} ...\")\n",
    "\n",
    "        finally:\n",
    "\n",
    "            # timeout\n",
    "\n",
    "            time.sleep(1.5)\n",
    "\n",
    "    print(f\"DONE!\")\n",
    "    logfile.write(f\"DONE!\")"
   ]
  },
  {
   "cell_type": "markdown",
   "metadata": {},
   "source": [
    "### Convert Raw Data to DataFrame\n",
    "* Export the city data into a .csv.\n",
    "* Display the DataFrame"
   ]
  },
  {
   "cell_type": "code",
   "execution_count": null,
   "metadata": {},
   "outputs": [],
   "source": [
    "df = pd.DataFrame([cities_dict[city] for city in cities_dict.keys()])\n",
    "\n",
    "# Toss the rows where all needed api data not available\n",
    "\n",
    "df_ = df.loc[(df[\"DATE\"] != \"NULL\"), :]\n",
    "\n",
    "df_.head()"
   ]
  },
  {
   "cell_type": "code",
   "execution_count": null,
   "metadata": {},
   "outputs": [],
   "source": [
    "df = df_.copy()\n",
    "\n",
    "df.to_csv(output_data_file)"
   ]
  },
  {
   "cell_type": "code",
   "execution_count": null,
   "metadata": {},
   "outputs": [],
   "source": [
    "# Breakpoint for loading previously fetched api data\n",
    "\n",
    "cityweather_df = pd.read_csv(\"../output_data/cities_550.csv\")\n",
    "\n",
    "del cityweather_df[\"Unnamed: 0\"]\n",
    "\n",
    "cityweather_df.head()\n",
    "\n",
    "# TEST:\n",
    "\n",
    "# cityweather_df[\"CITY\"].nunique() == len(cityweather_df)"
   ]
  },
  {
   "cell_type": "markdown",
   "metadata": {},
   "source": [
    "## Inspect the data and remove the cities where the humidity > 100%.\n",
    "----\n",
    "Skip this step if there are no cities that have humidity > 100%. "
   ]
  },
  {
   "cell_type": "code",
   "execution_count": null,
   "metadata": {},
   "outputs": [],
   "source": [
    "# chaining calls on cityweather_df to check humidity > 100%\n",
    "\n",
    "(cityweather_df\n",
    "\n",
    "     .HUMIDITY\n",
    "     .gt(100)\n",
    "     .sum()\n",
    ")"
   ]
  },
  {
   "cell_type": "code",
   "execution_count": null,
   "metadata": {},
   "outputs": [],
   "source": [
    "#  Get the indices of cities that have humidity over 100%.\n",
    "\n",
    "# N/A"
   ]
  },
  {
   "cell_type": "code",
   "execution_count": null,
   "metadata": {},
   "outputs": [],
   "source": [
    "# Make a new DataFrame equal to the city data to drop all humidity outliers by index.\n",
    "\n",
    "cityweather_df"
   ]
  },
  {
   "cell_type": "markdown",
   "metadata": {},
   "source": [
    "## Plotting the Data\n",
    "* Use proper labeling of the plots using plot titles (including date of analysis) and axes labels.\n",
    "* Save the plotted figures as .pngs."
   ]
  },
  {
   "cell_type": "markdown",
   "metadata": {},
   "source": [
    "## Latitude vs. Temperature Plot"
   ]
  },
  {
   "cell_type": "code",
   "execution_count": null,
   "metadata": {
    "scrolled": true
   },
   "outputs": [],
   "source": [
    "plt.scatter(cityweather_df[\"LAT\"], cityweather_df[\"MAX_TEMP\"], alpha=0.8, edgecolors=\"black\")\n",
    "\n",
    "plt.title(f\"City Latitude vs. Max Temperature ({today_date})\")\n",
    "plt.xlabel(\"Latitude\")\n",
    "plt.ylabel(\"Max Temperature (F)\")\n",
    "plt.ylim(-5,105)\n",
    "plt.grid(True)\n",
    "\n",
    "plt.savefig(\"../output_data/TempsInWorldCities.png\")\n",
    "\n",
    "# Correlation test\n",
    "\n",
    "# maybe ask Dom about using .abs() function here?\n",
    "\n",
    "lat_v_temp_corr = pearsonr(cityweather_df[\"LAT\"].abs(), cityweather_df[\"MAX_TEMP\"])\n",
    "print(f\"The Pearson r correlation between both factors is {round(lat_v_temp_corr[0],2)}\")\n",
    "\n",
    "# Show plot\n",
    "\n",
    "plt.show()"
   ]
  },
  {
   "cell_type": "markdown",
   "metadata": {},
   "source": [
    "This plot visualizes how **temperature** is related to distance from the equator (i.e., **latitude**) for a random sample of approximately 500 world cities. \n",
    "\n",
    "It appears to show - as we would expect - that **temperatures go up as you get nearer to the equator (latitude = 0), and go down as you get further from the equator**. "
   ]
  },
  {
   "cell_type": "markdown",
   "metadata": {},
   "source": [
    "## Latitude vs. Humidity Plot"
   ]
  },
  {
   "cell_type": "code",
   "execution_count": null,
   "metadata": {},
   "outputs": [],
   "source": [
    "plt.scatter(cityweather_df[\"LAT\"], cityweather_df[\"HUMIDITY\"], alpha=0.8, edgecolors=\"black\")\n",
    "\n",
    "plt.title(f\"City Latitude vs. Humidity ({today_date})\")\n",
    "plt.xlabel(\"Latitude\")\n",
    "plt.ylabel(\"Humidity (%)\")\n",
    "plt.ylim(-5,105)\n",
    "plt.grid(True)\n",
    "\n",
    "plt.savefig(f\"../output_data/TempsInWorldCities{today_date}.png\")\n",
    "\n",
    "# Correlation test\n",
    "\n",
    "lat_v_hum_corr = pearsonr(cityweather_df[\"LAT\"], cityweather_df[\"HUMIDITY\"])\n",
    "print(f\"The Pearson r correlation between both factors is {round(lat_v_hum_corr[0],2)}\")\n",
    "\n",
    "# Show plot\n",
    "\n",
    "plt.show()"
   ]
  },
  {
   "cell_type": "markdown",
   "metadata": {},
   "source": [
    "This plot visualizes how **humidity** is related to distance from the equator (i.e., **latitude**) for a random sample of approximately 500 world cities. \n",
    "\n",
    "There does not appear to be any detectable relationship, as the Pearson r value suggests. "
   ]
  },
  {
   "cell_type": "markdown",
   "metadata": {},
   "source": [
    "## Latitude vs. Cloudiness Plot"
   ]
  },
  {
   "cell_type": "code",
   "execution_count": null,
   "metadata": {},
   "outputs": [],
   "source": [
    "plt.scatter(cityweather_df[\"LAT\"], cityweather_df[\"CLOUDINESS\"], alpha=0.8, edgecolors=\"black\")\n",
    "\n",
    "plt.title(f\"City Latitude vs. Cloudiness ({today_date})\")\n",
    "plt.xlabel(\"Latitude\")\n",
    "plt.ylabel(\"Cloudiness (%)\")\n",
    "plt.ylim(-5,105)\n",
    "plt.grid(True)\n",
    "\n",
    "plt.savefig(f\"../output_data/TempsInWorldCities{today_date}.png\")\n",
    "\n",
    "# Correlation test\n",
    "\n",
    "lat_v_cloud_corr = pearsonr(cityweather_df[\"LAT\"], cityweather_df[\"CLOUDINESS\"])\n",
    "print(f\"The Pearson r correlation between both factors is {round(lat_v_cloud_corr[0],2)}\")\n",
    "\n",
    "# Show plot\n",
    "\n",
    "plt.show()"
   ]
  },
  {
   "cell_type": "markdown",
   "metadata": {},
   "source": [
    "This plot visualizes how **cloudiness** is related to distance from the equator (i.e., **latitude**) for a random sample of approximately 500 world cities. \n",
    "\n",
    "There does not appear to be any detectable relationship, as the Pearson r value suggests. "
   ]
  },
  {
   "cell_type": "markdown",
   "metadata": {},
   "source": [
    "## Latitude vs. Wind Speed Plot"
   ]
  },
  {
   "cell_type": "code",
   "execution_count": null,
   "metadata": {},
   "outputs": [],
   "source": [
    "plt.scatter(cityweather_df[\"LAT\"], cityweather_df[\"WIND_SPEED\"], alpha=0.8, edgecolors=\"black\")\n",
    "\n",
    "plt.title(f\"City Latitude vs. Wind Speed ({today_date})\")\n",
    "plt.xlabel(\"Latitude\")\n",
    "plt.ylabel(\"Wind Speed (mph)\")\n",
    "plt.ylim(-5,45)\n",
    "plt.grid(True)\n",
    "\n",
    "plt.savefig(f\"../output_data/TempsInWorldCities{today_date}.png\")\n",
    "\n",
    "# Correlation test\n",
    "\n",
    "wind_v_lat_corr = pearsonr(cityweather_df[\"LAT\"], cityweather_df[\"WIND_SPEED\"])\n",
    "print(f\"The Pearson r correlation between both factors is {round(wind_v_lat_corr[0],2)}\")\n",
    "\n",
    "# Show plot\n",
    "\n",
    "plt.show()"
   ]
  },
  {
   "cell_type": "markdown",
   "metadata": {},
   "source": [
    "This plot visualizes how **wind speed** is related to distance from the equator (i.e., **latitude**) for a random sample of approximately 500 world cities. \n",
    "\n",
    "There does not appear to be any detectable relationship, as the Pearson r value suggests. "
   ]
  },
  {
   "cell_type": "markdown",
   "metadata": {},
   "source": [
    "## Linear Regression"
   ]
  },
  {
   "cell_type": "code",
   "execution_count": null,
   "metadata": {},
   "outputs": [],
   "source": [
    "# assign 0 to all cities\n",
    "\n",
    "cityweather_df[\"HEMISPHERE\"] = 0\n",
    "\n",
    "# assign 1 to only Northern Hemisphere cities\n",
    "\n",
    "cityweather_df.loc[(cityweather_df[\"LAT\"] >= 0), \"HEMISPHERE\"] = 1\n",
    "\n",
    "# named series for regressions\n",
    "\n",
    "northern_latitudes = cityweather_df[\"HEMISPHERE\"] == 1\n",
    "southern_latitudes = cityweather_df[\"HEMISPHERE\"] == 0"
   ]
  },
  {
   "cell_type": "markdown",
   "metadata": {},
   "source": [
    "####  Northern Hemisphere - Max Temp vs. Latitude Linear Regression"
   ]
  },
  {
   "cell_type": "code",
   "execution_count": null,
   "metadata": {},
   "outputs": [],
   "source": [
    "# Get relevant series from df\n",
    "\n",
    "maxtemps = cityweather_df[northern_latitudes][\"MAX_TEMP\"]\n",
    "latitudes = cityweather_df[northern_latitudes][\"LAT\"]\n",
    "\n",
    "# Calc linear regression\n",
    "\n",
    "a_slope, a_int, a_r, a_p, a_std_err = linregress(latitudes, maxtemps) \n",
    "a_fit = a_slope * latitudes + a_int \n",
    "\n",
    "# Plot linear regression over scatter plot\n",
    "\n",
    "plt.scatter(latitudes, maxtemps)\n",
    "plt.plot(latitudes, a_fit, \"--\", color=\"red\")\n",
    "\n",
    "plt.xticks([0, 10, 20, 30, 40, 50, 60, 70, 80])\n",
    "plt.title(\"Northern Hemisphere - Max Temp vs. Latitude Linear Regression\")\n",
    "plt.xlabel(\"Latitude\")\n",
    "plt.ylabel(\"Max Temp\")\n",
    "\n",
    "# Report stats\n",
    "\n",
    "print(f\"The r-value = {round(a_r, 4)}\")\n",
    "print(f\"The p-value = {a_p}\")\n",
    "print(f\"The p-value is less than 0.05 = {a_p < 0.05}\")\n",
    "print(f\"The std-error = {round(a_std_err, 4)}\")\n",
    "\n",
    "line_eq = f\"y = {round(a_slope,2)}x + {round(a_int,2)}\"\n",
    "plt.annotate(line_eq, (10,40), fontsize=15, color=\"red\")\n",
    "plt.savefig(f\"../output_data/TempsLinReg_N{today_date}.png\")\n",
    "\n",
    "plt.show()"
   ]
  },
  {
   "cell_type": "markdown",
   "metadata": {},
   "source": [
    "####  Southern Hemisphere - Max Temp vs. Latitude Linear Regression"
   ]
  },
  {
   "cell_type": "code",
   "execution_count": null,
   "metadata": {},
   "outputs": [],
   "source": [
    "# Get relevant series from df\n",
    "\n",
    "maxtemps = cityweather_df[southern_latitudes][\"MAX_TEMP\"]\n",
    "latitudes = cityweather_df[southern_latitudes][\"LAT\"]\n",
    "\n",
    "# Calc linear regression\n",
    "\n",
    "a_slope, a_int, a_r, a_p, a_std_err = linregress(latitudes, maxtemps) \n",
    "a_fit = a_slope * latitudes + a_int \n",
    "\n",
    "# Plot linear regression over scatter plot\n",
    "\n",
    "plt.scatter(latitudes, maxtemps)\n",
    "plt.plot(latitudes, a_fit,  \"--\", color=\"red\")\n",
    "\n",
    "plt.xticks([0, -10, -20, -30, -40, -50])\n",
    "plt.title(\"Southern Hemisphere - Max Temp vs. Latitude Linear Regression\")\n",
    "plt.xlabel(\"Latitude\")\n",
    "plt.ylabel(\"Max Temp\")\n",
    "\n",
    "# Report stats\n",
    "\n",
    "print(f\"The r-value = {round(a_r, 4)}\")\n",
    "print(f\"The p-value = {a_p}\")\n",
    "print(f\"The p-value is less than 0.05 = {a_p < 0.05}\")\n",
    "print(f\"The std-error = {round(a_std_err, 4)}\")\n",
    "\n",
    "line_eq = f\"y = {round(a_slope,2)}x + {round(a_int,2)}\"\n",
    "plt.annotate(line_eq, (-50,85), fontsize=15, color=\"red\")\n",
    "plt.savefig(f\"../output_data/TempsLinReg_S{today_date}.png\")\n",
    "plt.show()"
   ]
  },
  {
   "cell_type": "markdown",
   "metadata": {},
   "source": [
    "The two previous linear regressions are testing for correlation between **temperature** and **distance from the equator**. The r-value for the Northern Hemisphere is -0.6935, while the r-value for the Southern Hemisphere is 0.7854. \n",
    "\n",
    "**These values suggest a strong correlation**. As you approach the equator, temperatures trend upward. As you move away from the equator, temperatures trend downward. "
   ]
  },
  {
   "cell_type": "markdown",
   "metadata": {},
   "source": [
    "####  Northern Hemisphere - Humidity (%) vs. Latitude Linear Regression"
   ]
  },
  {
   "cell_type": "code",
   "execution_count": null,
   "metadata": {},
   "outputs": [],
   "source": [
    "# Get relevant series from df\n",
    "\n",
    "humidities = cityweather_df[northern_latitudes][\"HUMIDITY\"]\n",
    "latitudes = cityweather_df[northern_latitudes][\"LAT\"]\n",
    "\n",
    "# Calc linear regression\n",
    "\n",
    "a_slope, a_int, a_r, a_p, a_std_err = linregress(latitudes, humidities) \n",
    "a_fit = a_slope * latitudes + a_int \n",
    "\n",
    "# Plot linear regression over scatter plot\n",
    "\n",
    "plt.scatter(latitudes, humidities)\n",
    "plt.plot(latitudes, a_fit,  \"--\", color=\"red\")\n",
    "\n",
    "plt.xticks([0, 10, 20, 30, 40, 50, 60, 70, 80])\n",
    "plt.title(\"Northern Hemisphere - Humidity (%) vs. Latitude Linear Regression\")\n",
    "plt.xlabel(\"Latitude\")\n",
    "plt.ylabel(\"Humidity\")\n",
    "\n",
    "# Report stats\n",
    "\n",
    "print(f\"The r-value = {round(a_r, 4)}\")\n",
    "print(f\"The p-value = {a_p}\")\n",
    "print(f\"The p-value is less than 0.05 = {a_p < 0.05}\")\n",
    "print(f\"The std-error = {round(a_std_err, 4)}\")\n",
    "\n",
    "line_eq = f\"y = {round(a_slope,2)}x + {round(a_int,2)}\"\n",
    "plt.annotate(line_eq, (43,10), fontsize=15, color=\"red\")\n",
    "plt.savefig(f\"../output_data/HumidLinReg_N{today_date}.png\")\n",
    "plt.show()"
   ]
  },
  {
   "cell_type": "markdown",
   "metadata": {},
   "source": [
    "####  Southern Hemisphere - Humidity (%) vs. Latitude Linear Regression"
   ]
  },
  {
   "cell_type": "code",
   "execution_count": null,
   "metadata": {},
   "outputs": [],
   "source": [
    "# Get relevant series from df\n",
    "\n",
    "humidities = cityweather_df[southern_latitudes][\"HUMIDITY\"]\n",
    "latitudes = cityweather_df[southern_latitudes][\"LAT\"]\n",
    "\n",
    "# Calc linear regression\n",
    "\n",
    "a_slope, a_int, a_r, a_p, a_std_err = linregress(latitudes, humidities) \n",
    "a_fit = a_slope * latitudes + a_int \n",
    "\n",
    "# Plot linear regression over scatter plot\n",
    "\n",
    "plt.scatter(latitudes, humidities)\n",
    "plt.plot(latitudes, a_fit,  \"--\", color=\"red\")\n",
    "\n",
    "plt.xticks([0, -10, -20, -30, -40, -50])\n",
    "plt.title(\"Southern Hemisphere - Humidity (%) vs. Latitude Linear Regression\")\n",
    "plt.xlabel(\"Latitude\")\n",
    "plt.ylabel(\"Humidity\")\n",
    "\n",
    "# Report stats\n",
    "\n",
    "print(f\"The r-value = {round(a_r, 4)}\")\n",
    "print(f\"The p-value = {a_p}\")\n",
    "print(f\"The p-value is less than 0.05 = {a_p < 0.05}\")\n",
    "print(f\"The std-error = {round(a_std_err, 4)}\")\n",
    "\n",
    "line_eq = f\"y = {round(a_slope,2)}x + {round(a_int,2)}\"\n",
    "plt.annotate(line_eq, (-55,20), fontsize=15, color=\"red\")\n",
    "plt.savefig(f\"../output_data/HumidLinReg_S{today_date}.png\")\n",
    "plt.show()"
   ]
  },
  {
   "cell_type": "markdown",
   "metadata": {},
   "source": [
    "The two previous linear regressions are testing for correlation between **humidity** and **distance from the equator**. The r-value for the Northern Hemisphere is -0.0548, while the r-value for the Southern Hemisphere is -0.079. \n",
    "\n",
    "**These values suggest no correlation**. "
   ]
  },
  {
   "cell_type": "markdown",
   "metadata": {},
   "source": [
    "####  Northern Hemisphere - Cloudiness (%) vs. Latitude Linear Regression"
   ]
  },
  {
   "cell_type": "code",
   "execution_count": null,
   "metadata": {},
   "outputs": [],
   "source": [
    "# Get relevant series from df\n",
    "\n",
    "cloudinesses = cityweather_df[northern_latitudes][\"CLOUDINESS\"]\n",
    "latitudes = cityweather_df[northern_latitudes][\"LAT\"]\n",
    "\n",
    "# Calc linear regression\n",
    "\n",
    "a_slope, a_int, a_r, a_p, a_std_err = linregress(latitudes, cloudinesses) \n",
    "a_fit = a_slope * latitudes + a_int \n",
    "\n",
    "# Plot linear regression over scatter plot\n",
    "\n",
    "plt.scatter(latitudes, cloudinesses)\n",
    "plt.plot(latitudes, a_fit, \"--\", color=\"red\")\n",
    "\n",
    "plt.xticks([0, 10, 20, 30, 40, 50, 60, 70, 80])\n",
    "plt.title(\"Northern Hemisphere - Cloudiness (%) vs. Latitude Linear Regression\")\n",
    "plt.xlabel(\"Latitude\")\n",
    "plt.ylabel(\"Cloudiness\")\n",
    "\n",
    "# Report stats\n",
    "\n",
    "print(f\"The r-value = {round(a_r, 4)}\")\n",
    "print(f\"The p-value = {a_p}\")\n",
    "print(f\"The p-value is less than 0.05 = {a_p < 0.05}\")\n",
    "print(f\"The std-error = {round(a_std_err, 4)}\")\n",
    "\n",
    "line_eq = f\"y = {round(a_slope,2)}x + {round(a_int,2)}\"\n",
    "plt.annotate(line_eq, (11,51), fontsize=15, color=\"red\")\n",
    "plt.savefig(f\"../output_data/CloudLinReg_N{today_date}.png\")\n",
    "plt.show()"
   ]
  },
  {
   "cell_type": "markdown",
   "metadata": {},
   "source": [
    "####  Southern Hemisphere - Cloudiness (%) vs. Latitude Linear Regression"
   ]
  },
  {
   "cell_type": "code",
   "execution_count": null,
   "metadata": {},
   "outputs": [],
   "source": [
    "# Get relevant series from df\n",
    "\n",
    "cloudinesses = cityweather_df[southern_latitudes][\"CLOUDINESS\"]\n",
    "latitudes = cityweather_df[southern_latitudes][\"LAT\"]\n",
    "\n",
    "# Calc linear regression\n",
    "\n",
    "a_slope, a_int, a_r, a_p, a_std_err = linregress(latitudes, cloudinesses) \n",
    "a_fit = a_slope * latitudes + a_int \n",
    "\n",
    "# Plot linear regression over scatter plot\n",
    "\n",
    "plt.scatter(latitudes, cloudinesses)\n",
    "plt.plot(latitudes, a_fit,  \"--\", color=\"red\")\n",
    "\n",
    "plt.xticks([0, -10, -20, -30, -40, -50])\n",
    "plt.title(\"Southern Hemisphere - Cloudiness (%) vs. Latitude Linear Regression\")\n",
    "plt.xlabel(\"Latitude\")\n",
    "plt.ylabel(\"Cloudiness\")\n",
    "\n",
    "# Report stats\n",
    "\n",
    "print(f\"The r-value = {round(a_r, 4)}\")\n",
    "print(f\"The p-value = {a_p}\")\n",
    "print(f\"The p-value is less than 0.05 = {a_p < 0.05}\")\n",
    "print(f\"The std-error = {round(a_std_err, 4)}\")\n",
    "\n",
    "line_eq = f\"y = {round(a_slope,2)}x + {round(a_int,2)}\"\n",
    "plt.annotate(line_eq, (-30,60), fontsize=15, color=\"red\")\n",
    "plt.savefig(f\"../output_data/CloudLinReg_S{today_date}.png\")\n",
    "\n",
    "plt.show()"
   ]
  },
  {
   "cell_type": "markdown",
   "metadata": {},
   "source": [
    "The two previous linear regressions are testing for correlation between **cloudiness** and **distance from the equator**. The r-value for the Northern Hemisphere is -0.0451, while the r-value for the Southern Hemisphere is -0.0417. \n",
    "\n",
    "**These values suggest no correlation**. "
   ]
  },
  {
   "cell_type": "markdown",
   "metadata": {},
   "source": [
    "####  Northern Hemisphere - Wind Speed (mph) vs. Latitude Linear Regression"
   ]
  },
  {
   "cell_type": "code",
   "execution_count": null,
   "metadata": {},
   "outputs": [],
   "source": [
    "# Get relevant series from df\n",
    "\n",
    "windspeeds = cityweather_df[northern_latitudes][\"WIND_SPEED\"]\n",
    "latitudes = cityweather_df[northern_latitudes][\"LAT\"]\n",
    "\n",
    "# Calc linear regression\n",
    "\n",
    "a_slope, a_int, a_r, a_p, a_std_err = linregress(latitudes, windspeeds) \n",
    "a_fit = a_slope * latitudes + a_int \n",
    "\n",
    "# Plot linear regression over scatter plot\n",
    "\n",
    "plt.scatter(latitudes, windspeeds)\n",
    "plt.plot(latitudes, a_fit,  \"--\", color=\"red\")\n",
    "\n",
    "plt.xticks([0, 10, 20, 30, 40, 50, 60, 70, 80])\n",
    "plt.title(\"Northern Hemisphere - Wind Speed (mph) vs. Latitude Linear Regression\")\n",
    "plt.xlabel(\"Latitude\")\n",
    "plt.ylabel(\"Wind Speed\")\n",
    "\n",
    "# Report stats\n",
    "\n",
    "print(f\"The r-value = {round(a_r, 4)}\")\n",
    "print(f\"The p-value = {a_p}\")\n",
    "print(f\"The p-value is less than 0.05 = {a_p < 0.05}\")\n",
    "print(f\"The std-error = {round(a_std_err, 4)}\")\n",
    "\n",
    "line_eq = f\"y = {round(a_slope,2)}x + {round(a_int,2)}\"\n",
    "plt.annotate(line_eq, (43,28), fontsize=15, color=\"red\")\n",
    "plt.savefig(f\"../output_data/WindLinReg_N{today_date}.png\")\n",
    "\n",
    "plt.show()"
   ]
  },
  {
   "cell_type": "markdown",
   "metadata": {},
   "source": [
    "####  Southern Hemisphere - Wind Speed (mph) vs. Latitude Linear Regression"
   ]
  },
  {
   "cell_type": "code",
   "execution_count": null,
   "metadata": {},
   "outputs": [],
   "source": [
    "# Get relevant series from df\n",
    "\n",
    "windspeeds = cityweather_df[southern_latitudes][\"WIND_SPEED\"]\n",
    "latitudes = cityweather_df[southern_latitudes][\"LAT\"]\n",
    "\n",
    "# Calc linear regression\n",
    "\n",
    "a_slope, a_int, a_r, a_p, a_std_err = linregress(latitudes, windspeeds) \n",
    "a_fit = a_slope * latitudes + a_int \n",
    "\n",
    "# Plot linear regression over scatter plot\n",
    "\n",
    "plt.scatter(latitudes, windspeeds)\n",
    "plt.plot(latitudes, a_fit,  \"--\", color=\"red\")\n",
    "\n",
    "plt.xticks([0, -10, -20, -30, -40, -50])\n",
    "plt.title(\"Southern Hemisphere - Wind Speed (mph) vs. Latitude Linear Regression\")\n",
    "plt.xlabel(\"Latitude\")\n",
    "plt.ylabel(\"Wind Speed\")\n",
    "\n",
    "# Report stats\n",
    "\n",
    "print(f\"The r-value = {round(a_r, 4)}\")\n",
    "print(f\"The p-value = {a_p}\")\n",
    "print(f\"The p-value is less than 0.05 = {a_p < 0.05}\")\n",
    "print(f\"The std-error = {round(a_std_err, 4)}\")\n",
    "\n",
    "line_eq = f\"y = {round(a_slope,2)}x + {round(a_int,2)}\"\n",
    "plt.annotate(line_eq, (-48,22), fontsize=15, color=\"red\")\n",
    "plt.savefig(f\"../output_data/CloudLinReg_S{today_date}.png\")\n",
    "\n",
    "plt.show()"
   ]
  },
  {
   "cell_type": "markdown",
   "metadata": {},
   "source": [
    "The two previous linear regressions are testing for correlation between **wind speed** and **distance from the equator**. The r-value for the Northern Hemisphere is 0.0147, while the r-value for the Southern Hemisphere is -0.2458. \n",
    "\n",
    "**These values suggest no correlation**. "
   ]
  }
 ],
 "metadata": {
  "anaconda-cloud": {},
  "kernel_info": {
   "name": "python3"
  },
  "kernelspec": {
   "display_name": "Python 3 (ipykernel)",
   "language": "python",
   "name": "python3"
  },
  "language_info": {
   "codemirror_mode": {
    "name": "ipython",
    "version": 3
   },
   "file_extension": ".py",
   "mimetype": "text/x-python",
   "name": "python",
   "nbconvert_exporter": "python",
   "pygments_lexer": "ipython3",
   "version": "3.8.13"
  },
  "latex_envs": {
   "LaTeX_envs_menu_present": true,
   "autoclose": false,
   "autocomplete": true,
   "bibliofile": "biblio.bib",
   "cite_by": "apalike",
   "current_citInitial": 1,
   "eqLabelWithNumbers": true,
   "eqNumInitial": 1,
   "hotkeys": {
    "equation": "Ctrl-E",
    "itemize": "Ctrl-I"
   },
   "labels_anchors": false,
   "latex_user_defs": false,
   "report_style_numbering": false,
   "user_envs_cfg": false
  },
  "nteract": {
   "version": "0.12.3"
  }
 },
 "nbformat": 4,
 "nbformat_minor": 2
}
