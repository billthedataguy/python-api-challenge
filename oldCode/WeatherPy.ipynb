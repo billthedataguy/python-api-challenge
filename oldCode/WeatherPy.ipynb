{
 "cells": [
  {
   "cell_type": "markdown",
   "metadata": {},
   "source": [
    "# WeatherPy\n",
    "----\n",
    "\n",
    "#### Note\n",
    "* Instructions have been included for each segment. You do not have to follow them exactly, but they are included to help you think through the steps."
   ]
  },
  {
   "cell_type": "code",
   "execution_count": 1,
   "metadata": {
    "scrolled": true
   },
   "outputs": [],
   "source": [
    "# Dependencies and Setup\n",
    "\n",
    "import matplotlib.pyplot as plt\n",
    "import pandas as pd\n",
    "import numpy as np\n",
    "import requests\n",
    "import time\n",
    "from scipy.stats import linregress\n",
    "from pprint import pprint\n",
    "\n",
    "# Import API key\n",
    "\n",
    "from api_keys import weather_api_key\n",
    "\n",
    "# Incorporated citipy to determine city based on latitude and longitude\n",
    "\n",
    "from citipy import citipy\n",
    "\n",
    "# Output File (CSV)\n",
    "\n",
    "output_data_file = \"output_data/cities.csv\"\n",
    "\n",
    "# Range of latitudes and longitudes\n",
    "\n",
    "lat_range = (-90, 90)\n",
    "lng_range = (-180, 180)"
   ]
  },
  {
   "cell_type": "markdown",
   "metadata": {},
   "source": [
    "## Generate Cities List"
   ]
  },
  {
   "cell_type": "code",
   "execution_count": 2,
   "metadata": {},
   "outputs": [
    {
     "data": {
      "text/plain": [
       "609"
      ]
     },
     "execution_count": 2,
     "metadata": {},
     "output_type": "execute_result"
    }
   ],
   "source": [
    "# List for holding lat_lngs and cities\n",
    "\n",
    "lat_lngs = []\n",
    "cities = []\n",
    "\n",
    "# Create a set of random lat and lng combinations\n",
    "\n",
    "lats = np.random.uniform(lat_range[0], lat_range[1], size=1500)\n",
    "lngs = np.random.uniform(lng_range[0], lng_range[1], size=1500)\n",
    "\n",
    "lat_lngs = zip(lats, lngs)\n",
    "\n",
    "# Identify nearest city for each lat, lng combination\n",
    "\n",
    "for lat_lng in lat_lngs:\n",
    "    \n",
    "    city = citipy.nearest_city(lat_lng[0], lat_lng[1]).city_name\n",
    "    \n",
    "    # If the city is unique, then add it to a our cities list\n",
    "    \n",
    "    if city not in cities:\n",
    "        \n",
    "        cities.append(city)\n",
    "\n",
    "# Print the city count to confirm sufficient count\n",
    "\n",
    "len(cities)"
   ]
  },
  {
   "cell_type": "markdown",
   "metadata": {},
   "source": [
    "### Perform API Calls\n",
    "* Perform a weather check on each city using a series of successive API calls.\n",
    "* Include a print log of each city as it's being processed (with the city number and city name).\n"
   ]
  },
  {
   "cell_type": "code",
   "execution_count": 3,
   "metadata": {},
   "outputs": [],
   "source": [
    "# Save config information\n",
    "    \n",
    "base_url = \"http://api.openweathermap.org/data/2.5/weather?\"\n",
    "api_key = weather_api_key\n",
    "units = \"imperial\"\n",
    "\n",
    "rawjson_dict = {}                      # store dict of json downloads by city name\n",
    "\n",
    "city_list = []\n",
    "country_list = []\n",
    "lat_list = []\n",
    "lng_list = []\n",
    "temp_list = []\n",
    "maxtemp_list = []\n",
    "humidity_list = []\n",
    "cloudiness_list = []\n",
    "windspeed_list = []\n",
    "\n",
    "weather_data_cols = []"
   ]
  },
  {
   "cell_type": "code",
   "execution_count": 4,
   "metadata": {},
   "outputs": [
    {
     "name": "stdout",
     "output_type": "stream",
     "text": [
      "0 Working on Iquique ...\n",
      "1 Working on Saint Paul Harbor ...\n",
      "2 Working on Vostok ...\n",
      "3 Working on Albany ...\n",
      "4 Working on Puerto Ayora ...\n",
      "5 Working on Banda Aceh ...\n",
      "6 Working on Busselton ...\n",
      "7 Working on Barrow ...\n",
      "8 Working on Jamestown ...\n",
      "9 Working on Port Elizabeth ...\n",
      "10 Working on Chokurdakh ...\n",
      "11 Working on Norman Wells ...\n",
      "12 Working on San Patricio ...\n",
      "13 Working on Lyngdal ...\n",
      "14 Working on Yatou ...\n",
      "15 Working on Havelock ...\n",
      "16 Info missing for  ... skipping!\n",
      "17 Working on Vukovar ...\n",
      "18 Working on Saskylakh ...\n",
      "19 Working on Madingou ...\n",
      "20 Info missing for  ... skipping!\n",
      "21 Working on Hasaki ...\n"
     ]
    },
    {
     "ename": "KeyboardInterrupt",
     "evalue": "",
     "output_type": "error",
     "traceback": [
      "\u001b[1;31m---------------------------------------------------------------------------\u001b[0m",
      "\u001b[1;31mKeyboardInterrupt\u001b[0m                         Traceback (most recent call last)",
      "Input \u001b[1;32mIn [4]\u001b[0m, in \u001b[0;36m<cell line: 5>\u001b[1;34m()\u001b[0m\n\u001b[0;32m     74\u001b[0m             windspeed_list\u001b[38;5;241m.\u001b[39mappend(weather_windspeed)\n\u001b[0;32m     76\u001b[0m     \u001b[38;5;28;01mfinally\u001b[39;00m:\n\u001b[1;32m---> 78\u001b[0m         \u001b[43mtime\u001b[49m\u001b[38;5;241;43m.\u001b[39;49m\u001b[43msleep\u001b[49m\u001b[43m(\u001b[49m\u001b[38;5;241;43m1.5\u001b[39;49m\u001b[43m)\u001b[49m\n\u001b[0;32m     80\u001b[0m \u001b[38;5;28mprint\u001b[39m(\u001b[38;5;124mf\u001b[39m\u001b[38;5;124m\"\u001b[39m\u001b[38;5;124mDONE!\u001b[39m\u001b[38;5;124m\"\u001b[39m)\n",
      "\u001b[1;31mKeyboardInterrupt\u001b[0m: "
     ]
    }
   ],
   "source": [
    "# for loop for api calls\n",
    "\n",
    "# we need to assure that we don't save \"missing data\" cities\n",
    "\n",
    "for num,city in enumerate(cities[:10]):\n",
    "        \n",
    "    query_url = f\"{base_url}appid={api_key}&q={city}&units={units}\"\n",
    "\n",
    "    weather_response = requests.get(query_url)\n",
    "    weather_json = weather_response.json()\n",
    "    \n",
    "    weather_city = \"\"\n",
    "    weather_country = \"\"\n",
    "    weather_lat = \"\"\n",
    "    weather_lng = \"\"\n",
    "    weather_maxtemp = \"\"\n",
    "    weather_humidity = \"\"\n",
    "    weather_cloudiness = \"\"\n",
    "    weather_windspeed = \"\"\n",
    "        \n",
    "    \n",
    "    try:\n",
    "        \n",
    "        weather_city = weather_json[\"name\"]\n",
    "        weather_country = weather_json[\"sys\"][\"country\"]         # 2 letter country codes; map in df\n",
    "        \n",
    "        weather_lat = weather_json[\"coord\"][\"lat\"]\n",
    "        weather_lng = weather_json[\"coord\"][\"lon\"]\n",
    "        \n",
    "        weather_temp = weather_json[\"main\"][\"temp\"]              # in Kelvin, need imperial (degrees F)\n",
    "        weather_maxtemp = weather_json[\"main\"][\"temp_max\"]       # in Kelvin, need imperial (degrees F)\n",
    "        \n",
    "        weather_humidity = weather_json[\"main\"][\"humidity\"]      # not always provided (need try ... except), in %\n",
    "        \n",
    "        weather_cloudiness = weather_json[\"clouds\"][\"all\"]       # in % \n",
    "        \n",
    "        weather_windspeed = weather_json[\"wind\"][\"speed\"]        # in meter/sec, need imperial (miles/hr)\n",
    "        \n",
    "                \n",
    "    except:\n",
    "        \n",
    "        print(f\"{num} Info missing for {weather_city} ... skipping!\")\n",
    "        weather_data_cols = []\n",
    "        continue        \n",
    "    \n",
    "    else:\n",
    "        \n",
    "        print(f\"{num} Working on {weather_city} ...\")\n",
    "        \n",
    "        rawjson_dict[weather_city] = weather_json\n",
    "        \n",
    "        weather_data_cols = [\n",
    "        \n",
    "            weather_city, weather_country, weather_lat, weather_lng, weather_maxtemp, \n",
    "            weather_humidity, weather_cloudiness, weather_windspeed\n",
    "        \n",
    "        ]\n",
    "        \n",
    "        if all(weather_data_cols):\n",
    "        \n",
    "            city_list.append(weather_city)\n",
    "            country_list.append(weather_country)\n",
    "\n",
    "            lat_list.append(weather_lat)\n",
    "            lng_list.append(weather_lng)\n",
    "\n",
    "            temp_list.append(weather_temp)\n",
    "            maxtemp_list.append(weather_temp)\n",
    "\n",
    "            humidity_list.append(weather_humidity)\n",
    "\n",
    "            cloudiness_list.append(weather_cloudiness)\n",
    "\n",
    "            windspeed_list.append(weather_windspeed)\n",
    "    \n",
    "    finally:\n",
    "    \n",
    "        time.sleep(1.5)\n",
    "\n",
    "print(f\"DONE!\")"
   ]
  },
  {
   "cell_type": "code",
   "execution_count": 5,
   "metadata": {},
   "outputs": [
    {
     "name": "stdout",
     "output_type": "stream",
     "text": [
      "RAW JSON REPORT:\n",
      "\n",
      "\n",
      "\n",
      "Iquique\n",
      "\n",
      "{'base': 'stations',\n",
      " 'clouds': {'all': 22},\n",
      " 'cod': 200,\n",
      " 'coord': {'lat': -20.2208, 'lon': -70.1431},\n",
      " 'dt': 1659203281,\n",
      " 'id': 3887127,\n",
      " 'main': {'feels_like': 59.67,\n",
      "          'grnd_level': 1011,\n",
      "          'humidity': 65,\n",
      "          'pressure': 1016,\n",
      "          'sea_level': 1016,\n",
      "          'temp': 60.84,\n",
      "          'temp_max': 60.84,\n",
      "          'temp_min': 60.84},\n",
      " 'name': 'Iquique',\n",
      " 'sys': {'country': 'CL',\n",
      "         'id': 8492,\n",
      "         'sunrise': 1659179486,\n",
      "         'sunset': 1659219743,\n",
      "         'type': 1},\n",
      " 'timezone': -14400,\n",
      " 'visibility': 10000,\n",
      " 'weather': [{'description': 'few clouds',\n",
      "              'icon': '02d',\n",
      "              'id': 801,\n",
      "              'main': 'Clouds'}],\n",
      " 'wind': {'deg': 249, 'gust': 4.47, 'speed': 5.26}}\n",
      "\n",
      "Saint Paul Harbor\n",
      "\n",
      "{'base': 'stations',\n",
      " 'clouds': {'all': 100},\n",
      " 'cod': 200,\n",
      " 'coord': {'lat': 57.79, 'lon': -152.4072},\n",
      " 'dt': 1659203283,\n",
      " 'id': 5866583,\n",
      " 'main': {'feels_like': 56.23,\n",
      "          'humidity': 88,\n",
      "          'pressure': 1009,\n",
      "          'temp': 56.71,\n",
      "          'temp_max': 56.71,\n",
      "          'temp_min': 56.71},\n",
      " 'name': 'Saint Paul Harbor',\n",
      " 'sys': {'country': 'US',\n",
      "         'id': 7668,\n",
      "         'sunrise': 1659189629,\n",
      "         'sunset': 1659249086,\n",
      "         'type': 1},\n",
      " 'timezone': -28800,\n",
      " 'visibility': 10000,\n",
      " 'weather': [{'description': 'overcast clouds',\n",
      "              'icon': '04d',\n",
      "              'id': 804,\n",
      "              'main': 'Clouds'}],\n",
      " 'wind': {'deg': 0, 'speed': 0}}\n",
      "\n",
      "Vostok\n",
      "\n",
      "{'base': 'stations',\n",
      " 'clouds': {'all': 64},\n",
      " 'cod': 200,\n",
      " 'coord': {'lat': 46.4856, 'lon': 135.8833},\n",
      " 'dt': 1659203285,\n",
      " 'id': 2013279,\n",
      " 'main': {'feels_like': 65.07,\n",
      "          'grnd_level': 942,\n",
      "          'humidity': 99,\n",
      "          'pressure': 1009,\n",
      "          'sea_level': 1009,\n",
      "          'temp': 64.29,\n",
      "          'temp_max': 64.29,\n",
      "          'temp_min': 64.29},\n",
      " 'name': 'Vostok',\n",
      " 'sys': {'country': 'RU', 'sunrise': 1659209727, 'sunset': 1659263408},\n",
      " 'timezone': 36000,\n",
      " 'visibility': 10000,\n",
      " 'weather': [{'description': 'broken clouds',\n",
      "              'icon': '04n',\n",
      "              'id': 803,\n",
      "              'main': 'Clouds'}],\n",
      " 'wind': {'deg': 201, 'gust': 5.84, 'speed': 4.54}}\n",
      "\n",
      "Albany\n",
      "\n",
      "{'base': 'stations',\n",
      " 'clouds': {'all': 15},\n",
      " 'cod': 200,\n",
      " 'coord': {'lat': 42.6001, 'lon': -73.9662},\n",
      " 'dt': 1659203164,\n",
      " 'id': 5106841,\n",
      " 'main': {'feels_like': 76.51,\n",
      "          'humidity': 53,\n",
      "          'pressure': 1017,\n",
      "          'temp': 76.66,\n",
      "          'temp_max': 78.94,\n",
      "          'temp_min': 74.25},\n",
      " 'name': 'Albany',\n",
      " 'sys': {'country': 'US',\n",
      "         'id': 19530,\n",
      "         'sunrise': 1659174338,\n",
      "         'sunset': 1659226727,\n",
      "         'type': 2},\n",
      " 'timezone': -14400,\n",
      " 'visibility': 10000,\n",
      " 'weather': [{'description': 'few clouds',\n",
      "              'icon': '02d',\n",
      "              'id': 801,\n",
      "              'main': 'Clouds'}],\n",
      " 'wind': {'deg': 105, 'gust': 5.99, 'speed': 1.99}}\n",
      "\n",
      "Puerto Ayora\n",
      "\n",
      "{'base': 'stations',\n",
      " 'clouds': {'all': 83},\n",
      " 'cod': 200,\n",
      " 'coord': {'lat': -0.7393, 'lon': -90.3518},\n",
      " 'dt': 1659203288,\n",
      " 'id': 3652764,\n",
      " 'main': {'feels_like': 73.45,\n",
      "          'humidity': 84,\n",
      "          'pressure': 1013,\n",
      "          'temp': 72.55,\n",
      "          'temp_max': 78.76,\n",
      "          'temp_min': 72.55},\n",
      " 'name': 'Puerto Ayora',\n",
      " 'sys': {'country': 'EC',\n",
      "         'id': 2005652,\n",
      "         'sunrise': 1659182714,\n",
      "         'sunset': 1659226215,\n",
      "         'type': 2},\n",
      " 'timezone': -21600,\n",
      " 'visibility': 10000,\n",
      " 'weather': [{'description': 'broken clouds',\n",
      "              'icon': '04d',\n",
      "              'id': 803,\n",
      "              'main': 'Clouds'}],\n",
      " 'wind': {'deg': 197, 'gust': 10, 'speed': 5.01}}\n",
      "\n",
      "Banda Aceh\n",
      "\n",
      "{'base': 'stations',\n",
      " 'clouds': {'all': 99},\n",
      " 'cod': 200,\n",
      " 'coord': {'lat': 5.5577, 'lon': 95.3222},\n",
      " 'dt': 1659203290,\n",
      " 'id': 1215502,\n",
      " 'main': {'feels_like': 84.49,\n",
      "          'grnd_level': 1007,\n",
      "          'humidity': 76,\n",
      "          'pressure': 1008,\n",
      "          'sea_level': 1008,\n",
      "          'temp': 80.4,\n",
      "          'temp_max': 80.4,\n",
      "          'temp_min': 80.4},\n",
      " 'name': 'Banda Aceh',\n",
      " 'sys': {'country': 'ID', 'sunrise': 1659224047, 'sunset': 1659268557},\n",
      " 'timezone': 25200,\n",
      " 'visibility': 10000,\n",
      " 'weather': [{'description': 'overcast clouds',\n",
      "              'icon': '04n',\n",
      "              'id': 804,\n",
      "              'main': 'Clouds'}],\n",
      " 'wind': {'deg': 195, 'gust': 14.2, 'speed': 12.08}}\n",
      "\n",
      "Busselton\n",
      "\n",
      "{'base': 'stations',\n",
      " 'clouds': {'all': 99},\n",
      " 'cod': 200,\n",
      " 'coord': {'lat': -33.65, 'lon': 115.3333},\n",
      " 'dt': 1659203292,\n",
      " 'id': 2075265,\n",
      " 'main': {'feels_like': 51.76,\n",
      "          'grnd_level': 1017,\n",
      "          'humidity': 64,\n",
      "          'pressure': 1018,\n",
      "          'sea_level': 1018,\n",
      "          'temp': 53.69,\n",
      "          'temp_max': 53.69,\n",
      "          'temp_min': 53.69},\n",
      " 'name': 'Busselton',\n",
      " 'sys': {'country': 'AU', 'sunrise': 1659222704, 'sunset': 1659260295},\n",
      " 'timezone': 28800,\n",
      " 'visibility': 10000,\n",
      " 'weather': [{'description': 'overcast clouds',\n",
      "              'icon': '04n',\n",
      "              'id': 804,\n",
      "              'main': 'Clouds'}],\n",
      " 'wind': {'deg': 262, 'gust': 8.63, 'speed': 5.46}}\n",
      "\n",
      "Barrow\n",
      "\n",
      "{'base': 'stations',\n",
      " 'clouds': {'all': 100},\n",
      " 'cod': 200,\n",
      " 'coord': {'lat': 71.2906, 'lon': -156.7887},\n",
      " 'dt': 1659203294,\n",
      " 'id': 5880054,\n",
      " 'main': {'feels_like': 32.49,\n",
      "          'grnd_level': 1019,\n",
      "          'humidity': 83,\n",
      "          'pressure': 1020,\n",
      "          'sea_level': 1020,\n",
      "          'temp': 38.26,\n",
      "          'temp_max': 38.26,\n",
      "          'temp_min': 38.26},\n",
      " 'name': 'Barrow',\n",
      " 'sys': {'country': 'US', 'sunrise': 0, 'sunset': 0},\n",
      " 'timezone': -28800,\n",
      " 'visibility': 10000,\n",
      " 'weather': [{'description': 'overcast clouds',\n",
      "              'icon': '04n',\n",
      "              'id': 804,\n",
      "              'main': 'Clouds'}],\n",
      " 'wind': {'deg': 83, 'gust': 7.67, 'speed': 7.96}}\n",
      "\n",
      "Jamestown\n",
      "\n",
      "{'base': 'stations',\n",
      " 'clouds': {'all': 40},\n",
      " 'cod': 200,\n",
      " 'coord': {'lat': 42.097, 'lon': -79.2353},\n",
      " 'dt': 1659203134,\n",
      " 'id': 5122534,\n",
      " 'main': {'feels_like': 72.37,\n",
      "          'humidity': 56,\n",
      "          'pressure': 1022,\n",
      "          'temp': 72.77,\n",
      "          'temp_max': 75.02,\n",
      "          'temp_min': 67.51},\n",
      " 'name': 'Jamestown',\n",
      " 'sys': {'country': 'US',\n",
      "         'id': 2008933,\n",
      "         'sunrise': 1659175683,\n",
      "         'sunset': 1659227910,\n",
      "         'type': 2},\n",
      " 'timezone': -14400,\n",
      " 'visibility': 10000,\n",
      " 'weather': [{'description': 'scattered clouds',\n",
      "              'icon': '03d',\n",
      "              'id': 802,\n",
      "              'main': 'Clouds'}],\n",
      " 'wind': {'deg': 300, 'gust': 25.32, 'speed': 11.5}}\n",
      "\n",
      "Port Elizabeth\n",
      "\n",
      "{'base': 'stations',\n",
      " 'clouds': {'all': 0},\n",
      " 'cod': 200,\n",
      " 'coord': {'lat': -33.918, 'lon': 25.5701},\n",
      " 'dt': 1659203000,\n",
      " 'id': 964420,\n",
      " 'main': {'feels_like': 52.97,\n",
      "          'humidity': 75,\n",
      "          'pressure': 1022,\n",
      "          'temp': 54.32,\n",
      "          'temp_max': 54.32,\n",
      "          'temp_min': 53.89},\n",
      " 'name': 'Port Elizabeth',\n",
      " 'sys': {'country': 'ZA',\n",
      "         'id': 2072678,\n",
      "         'sunrise': 1659157912,\n",
      "         'sunset': 1659195375,\n",
      "         'type': 2},\n",
      " 'timezone': 7200,\n",
      " 'visibility': 10000,\n",
      " 'weather': [{'description': 'clear sky',\n",
      "              'icon': '01n',\n",
      "              'id': 800,\n",
      "              'main': 'Clear'}],\n",
      " 'wind': {'deg': 250, 'speed': 12.66}}\n",
      "\n",
      "Chokurdakh\n",
      "\n",
      "{'base': 'stations',\n",
      " 'clouds': {'all': 0},\n",
      " 'cod': 200,\n",
      " 'coord': {'lat': 70.6333, 'lon': 147.9167},\n",
      " 'dt': 1659203300,\n",
      " 'id': 2126123,\n",
      " 'main': {'feels_like': 49.21,\n",
      "          'grnd_level': 1001,\n",
      "          'humidity': 81,\n",
      "          'pressure': 1004,\n",
      "          'sea_level': 1004,\n",
      "          'temp': 50.63,\n",
      "          'temp_max': 50.63,\n",
      "          'temp_min': 50.63},\n",
      " 'name': 'Chokurdakh',\n",
      " 'sys': {'country': 'RU', 'sunrise': 1659192296, 'sunset': 1659275063},\n",
      " 'timezone': 39600,\n",
      " 'visibility': 10000,\n",
      " 'weather': [{'description': 'clear sky',\n",
      "              'icon': '01d',\n",
      "              'id': 800,\n",
      "              'main': 'Clear'}],\n",
      " 'wind': {'deg': 343, 'gust': 1.68, 'speed': 1.36}}\n",
      "\n",
      "Norman Wells\n",
      "\n",
      "{'base': 'stations',\n",
      " 'clouds': {'all': 75},\n",
      " 'cod': 200,\n",
      " 'coord': {'lat': 65.282, 'lon': -126.8329},\n",
      " 'dt': 1659203302,\n",
      " 'id': 6089245,\n",
      " 'main': {'feels_like': 56.28,\n",
      "          'humidity': 77,\n",
      "          'pressure': 1019,\n",
      "          'temp': 57.24,\n",
      "          'temp_max': 57.24,\n",
      "          'temp_min': 57.24},\n",
      " 'name': 'Norman Wells',\n",
      " 'sys': {'country': 'CA',\n",
      "         'id': 951,\n",
      "         'sunrise': 1659179733,\n",
      "         'sunset': 1659246707,\n",
      "         'type': 1},\n",
      " 'timezone': -21600,\n",
      " 'visibility': 10000,\n",
      " 'weather': [{'description': 'broken clouds',\n",
      "              'icon': '04d',\n",
      "              'id': 803,\n",
      "              'main': 'Clouds'}],\n",
      " 'wind': {'deg': 150, 'speed': 4.61}}\n",
      "\n",
      "San Patricio\n",
      "\n",
      "{'base': 'stations',\n",
      " 'clouds': {'all': 33},\n",
      " 'cod': 200,\n",
      " 'coord': {'lat': 28.017, 'lon': -97.5169},\n",
      " 'dt': 1659203304,\n",
      " 'id': 4726521,\n"
     ]
    },
    {
     "name": "stdout",
     "output_type": "stream",
     "text": [
      " 'main': {'feels_like': 95.52,\n",
      "          'grnd_level': 1016,\n",
      "          'humidity': 40,\n",
      "          'pressure': 1018,\n",
      "          'sea_level': 1018,\n",
      "          'temp': 93.06,\n",
      "          'temp_max': 95.72,\n",
      "          'temp_min': 87.64},\n",
      " 'name': 'San Patricio',\n",
      " 'sys': {'country': 'US',\n",
      "         'id': 2040001,\n",
      "         'sunrise': 1659181887,\n",
      "         'sunset': 1659230481,\n",
      "         'type': 2},\n",
      " 'timezone': -18000,\n",
      " 'visibility': 10000,\n",
      " 'weather': [{'description': 'scattered clouds',\n",
      "              'icon': '03d',\n",
      "              'id': 802,\n",
      "              'main': 'Clouds'}],\n",
      " 'wind': {'deg': 135, 'gust': 14.5, 'speed': 15.79}}\n",
      "\n",
      "Lyngdal\n",
      "\n",
      "{'base': 'stations',\n",
      " 'clouds': {'all': 94},\n",
      " 'cod': 200,\n",
      " 'coord': {'lat': 58.1376, 'lon': 7.07},\n",
      " 'dt': 1659203306,\n",
      " 'id': 3146684,\n",
      " 'main': {'feels_like': 65.52,\n",
      "          'grnd_level': 1015,\n",
      "          'humidity': 71,\n",
      "          'pressure': 1016,\n",
      "          'sea_level': 1016,\n",
      "          'temp': 65.89,\n",
      "          'temp_max': 65.89,\n",
      "          'temp_min': 65.89},\n",
      " 'name': 'Lyngdal',\n",
      " 'sys': {'country': 'NO',\n",
      "         'id': 2008816,\n",
      "         'sunrise': 1659151175,\n",
      "         'sunset': 1659210993,\n",
      "         'type': 2},\n",
      " 'timezone': 7200,\n",
      " 'visibility': 10000,\n",
      " 'weather': [{'description': 'overcast clouds',\n",
      "              'icon': '04d',\n",
      "              'id': 804,\n",
      "              'main': 'Clouds'}],\n",
      " 'wind': {'deg': 191, 'gust': 5.57, 'speed': 3.49}}\n",
      "\n",
      "Yatou\n",
      "\n",
      "{'base': 'stations',\n",
      " 'clouds': {'all': 90},\n",
      " 'cod': 200,\n",
      " 'coord': {'lat': 37.15, 'lon': 122.3833},\n",
      " 'dt': 1659203307,\n",
      " 'id': 1786855,\n",
      " 'main': {'feels_like': 77.95,\n",
      "          'grnd_level': 1003,\n",
      "          'humidity': 89,\n",
      "          'pressure': 1007,\n",
      "          'sea_level': 1007,\n",
      "          'temp': 76.42,\n",
      "          'temp_max': 76.42,\n",
      "          'temp_min': 76.42},\n",
      " 'name': 'Yatou',\n",
      " 'rain': {'1h': 0.25},\n",
      " 'sys': {'country': 'CN', 'sunrise': 1659214439, 'sunset': 1659265176},\n",
      " 'timezone': 28800,\n",
      " 'visibility': 10000,\n",
      " 'weather': [{'description': 'light rain',\n",
      "              'icon': '10n',\n",
      "              'id': 500,\n",
      "              'main': 'Rain'}],\n",
      " 'wind': {'deg': 129, 'gust': 6.96, 'speed': 5.21}}\n",
      "\n",
      "Havelock\n",
      "\n",
      "{'base': 'stations',\n",
      " 'clouds': {'all': 75},\n",
      " 'cod': 200,\n",
      " 'coord': {'lat': 34.8791, 'lon': -76.9013},\n",
      " 'dt': 1659203228,\n",
      " 'id': 4470244,\n",
      " 'main': {'feels_like': 101.07,\n",
      "          'humidity': 75,\n",
      "          'pressure': 1020,\n",
      "          'temp': 88.47,\n",
      "          'temp_max': 92.98,\n",
      "          'temp_min': 84.92},\n",
      " 'name': 'Havelock',\n",
      " 'sys': {'country': 'US',\n",
      "         'id': 2018017,\n",
      "         'sunrise': 1659176141,\n",
      "         'sunset': 1659226332,\n",
      "         'type': 2},\n",
      " 'timezone': -14400,\n",
      " 'visibility': 10000,\n",
      " 'weather': [{'description': 'broken clouds',\n",
      "              'icon': '04d',\n",
      "              'id': 803,\n",
      "              'main': 'Clouds'}],\n",
      " 'wind': {'deg': 70, 'speed': 6.91}}\n",
      "\n",
      "Vukovar\n",
      "\n",
      "{'base': 'stations',\n",
      " 'clouds': {'all': 20},\n",
      " 'cod': 200,\n",
      " 'coord': {'lat': 45.3433, 'lon': 18.9997},\n",
      " 'dt': 1659203313,\n",
      " 'id': 3187047,\n",
      " 'main': {'feels_like': 77.02,\n",
      "          'humidity': 61,\n",
      "          'pressure': 1013,\n",
      "          'temp': 76.77,\n",
      "          'temp_max': 76.77,\n",
      "          'temp_min': 76.77},\n",
      " 'name': 'Vukovar',\n",
      " 'sys': {'country': 'HR',\n",
      "         'id': 6384,\n",
      "         'sunrise': 1659151541,\n",
      "         'sunset': 1659204900,\n",
      "         'type': 1},\n",
      " 'timezone': 7200,\n",
      " 'visibility': 10000,\n",
      " 'weather': [{'description': 'few clouds',\n",
      "              'icon': '02d',\n",
      "              'id': 801,\n",
      "              'main': 'Clouds'}],\n",
      " 'wind': {'deg': 320, 'speed': 11.5}}\n",
      "\n",
      "Saskylakh\n",
      "\n",
      "{'base': 'stations',\n",
      " 'clouds': {'all': 100},\n",
      " 'cod': 200,\n",
      " 'coord': {'lat': 71.9167, 'lon': 114.0833},\n",
      " 'dt': 1659203315,\n",
      " 'id': 2017155,\n",
      " 'main': {'feels_like': 60.66,\n",
      "          'grnd_level': 1000,\n",
      "          'humidity': 95,\n",
      "          'pressure': 1001,\n",
      "          'sea_level': 1001,\n",
      "          'temp': 60.44,\n",
      "          'temp_max': 60.44,\n",
      "          'temp_min': 60.44},\n",
      " 'name': 'Saskylakh',\n",
      " 'rain': {'1h': 0.55},\n",
      " 'sys': {'country': 'RU', 'sunrise': 0, 'sunset': 0},\n",
      " 'timezone': 32400,\n",
      " 'visibility': 10000,\n",
      " 'weather': [{'description': 'light rain',\n",
      "              'icon': '10n',\n",
      "              'id': 500,\n",
      "              'main': 'Rain'}],\n",
      " 'wind': {'deg': 351, 'gust': 17.25, 'speed': 9.28}}\n",
      "\n",
      "Madingou\n",
      "\n",
      "{'base': 'stations',\n",
      " 'clouds': {'all': 40},\n",
      " 'cod': 200,\n",
      " 'coord': {'lat': -4.1536, 'lon': 13.55},\n",
      " 'dt': 1659203317,\n",
      " 'id': 2257990,\n",
      " 'main': {'feels_like': 83.01,\n",
      "          'grnd_level': 987,\n",
      "          'humidity': 50,\n",
      "          'pressure': 1012,\n",
      "          'sea_level': 1012,\n",
      "          'temp': 82.22,\n",
      "          'temp_max': 82.22,\n",
      "          'temp_min': 82.22},\n",
      " 'name': 'Madingou',\n",
      " 'sys': {'country': 'CG', 'sunrise': 1659158053, 'sunset': 1659201005},\n",
      " 'timezone': 3600,\n",
      " 'visibility': 10000,\n",
      " 'weather': [{'description': 'scattered clouds',\n",
      "              'icon': '03n',\n",
      "              'id': 802,\n",
      "              'main': 'Clouds'}],\n",
      " 'wind': {'deg': 266, 'gust': 19.8, 'speed': 10.89}}\n",
      "\n",
      "Hasaki\n",
      "\n",
      "{'base': 'stations',\n",
      " 'clouds': {'all': 17},\n",
      " 'cod': 200,\n",
      " 'coord': {'lat': 35.7333, 'lon': 140.8333},\n",
      " 'dt': 1659203320,\n",
      " 'id': 2112802,\n",
      " 'main': {'feels_like': 77,\n",
      "          'grnd_level': 1012,\n",
      "          'humidity': 88,\n",
      "          'pressure': 1013,\n",
      "          'sea_level': 1013,\n",
      "          'temp': 75.6,\n",
      "          'temp_max': 77.29,\n",
      "          'temp_min': 75.6},\n",
      " 'name': 'Hasaki',\n",
      " 'sys': {'country': 'JP',\n",
      "         'id': 7955,\n",
      "         'sunrise': 1659210194,\n",
      "         'sunset': 1659260565,\n",
      "         'type': 1},\n",
      " 'timezone': 32400,\n",
      " 'visibility': 10000,\n",
      " 'weather': [{'description': 'few clouds',\n",
      "              'icon': '02n',\n",
      "              'id': 801,\n",
      "              'main': 'Clouds'}],\n",
      " 'wind': {'deg': 222, 'gust': 9.95, 'speed': 7.83}}\n"
     ]
    }
   ],
   "source": [
    "print(f\"RAW JSON REPORT:\\n\\n\")\n",
    "\n",
    "for k,v in rawjson_dict.items():\n",
    "    print(f\"\\n{k}\\n\")\n",
    "    pprint(v)"
   ]
  },
  {
   "cell_type": "markdown",
   "metadata": {},
   "source": [
    "### Convert Raw Data to DataFrame\n",
    "* Export the city data into a .csv.\n",
    "* Display the DataFrame"
   ]
  },
  {
   "cell_type": "code",
   "execution_count": 6,
   "metadata": {},
   "outputs": [
    {
     "data": {
      "text/plain": [
       "20"
      ]
     },
     "execution_count": 6,
     "metadata": {},
     "output_type": "execute_result"
    }
   ],
   "source": [
    "len(rawjson_dict)"
   ]
  },
  {
   "cell_type": "code",
   "execution_count": 7,
   "metadata": {},
   "outputs": [
    {
     "data": {
      "text/html": [
       "<div>\n",
       "<style scoped>\n",
       "    .dataframe tbody tr th:only-of-type {\n",
       "        vertical-align: middle;\n",
       "    }\n",
       "\n",
       "    .dataframe tbody tr th {\n",
       "        vertical-align: top;\n",
       "    }\n",
       "\n",
       "    .dataframe thead th {\n",
       "        text-align: right;\n",
       "    }\n",
       "</style>\n",
       "<table border=\"1\" class=\"dataframe\">\n",
       "  <thead>\n",
       "    <tr style=\"text-align: right;\">\n",
       "      <th></th>\n",
       "      <th>CITY</th>\n",
       "      <th>COUNTRY</th>\n",
       "      <th>LAT</th>\n",
       "      <th>LNG</th>\n",
       "      <th>TEMP</th>\n",
       "      <th>MAXTEMP</th>\n",
       "      <th>HUMIDITY</th>\n",
       "      <th>CLOUDINESS</th>\n",
       "      <th>WINDSPEED</th>\n",
       "    </tr>\n",
       "  </thead>\n",
       "  <tbody>\n",
       "    <tr>\n",
       "      <th>0</th>\n",
       "      <td>Iquique</td>\n",
       "      <td>CL</td>\n",
       "      <td>-20.2208</td>\n",
       "      <td>-70.1431</td>\n",
       "      <td>60.84</td>\n",
       "      <td>60.84</td>\n",
       "      <td>65</td>\n",
       "      <td>22</td>\n",
       "      <td>5.26</td>\n",
       "    </tr>\n",
       "    <tr>\n",
       "      <th>1</th>\n",
       "      <td>Vostok</td>\n",
       "      <td>RU</td>\n",
       "      <td>46.4856</td>\n",
       "      <td>135.8833</td>\n",
       "      <td>64.29</td>\n",
       "      <td>64.29</td>\n",
       "      <td>99</td>\n",
       "      <td>64</td>\n",
       "      <td>4.54</td>\n",
       "    </tr>\n",
       "    <tr>\n",
       "      <th>2</th>\n",
       "      <td>Albany</td>\n",
       "      <td>US</td>\n",
       "      <td>42.6001</td>\n",
       "      <td>-73.9662</td>\n",
       "      <td>76.66</td>\n",
       "      <td>76.66</td>\n",
       "      <td>53</td>\n",
       "      <td>15</td>\n",
       "      <td>1.99</td>\n",
       "    </tr>\n",
       "    <tr>\n",
       "      <th>3</th>\n",
       "      <td>Puerto Ayora</td>\n",
       "      <td>EC</td>\n",
       "      <td>-0.7393</td>\n",
       "      <td>-90.3518</td>\n",
       "      <td>72.55</td>\n",
       "      <td>72.55</td>\n",
       "      <td>84</td>\n",
       "      <td>83</td>\n",
       "      <td>5.01</td>\n",
       "    </tr>\n",
       "    <tr>\n",
       "      <th>4</th>\n",
       "      <td>Banda Aceh</td>\n",
       "      <td>ID</td>\n",
       "      <td>5.5577</td>\n",
       "      <td>95.3222</td>\n",
       "      <td>80.40</td>\n",
       "      <td>80.40</td>\n",
       "      <td>76</td>\n",
       "      <td>99</td>\n",
       "      <td>12.08</td>\n",
       "    </tr>\n",
       "    <tr>\n",
       "      <th>5</th>\n",
       "      <td>Busselton</td>\n",
       "      <td>AU</td>\n",
       "      <td>-33.6500</td>\n",
       "      <td>115.3333</td>\n",
       "      <td>53.69</td>\n",
       "      <td>53.69</td>\n",
       "      <td>64</td>\n",
       "      <td>99</td>\n",
       "      <td>5.46</td>\n",
       "    </tr>\n",
       "    <tr>\n",
       "      <th>6</th>\n",
       "      <td>Barrow</td>\n",
       "      <td>US</td>\n",
       "      <td>71.2906</td>\n",
       "      <td>-156.7887</td>\n",
       "      <td>38.26</td>\n",
       "      <td>38.26</td>\n",
       "      <td>83</td>\n",
       "      <td>100</td>\n",
       "      <td>7.96</td>\n",
       "    </tr>\n",
       "    <tr>\n",
       "      <th>7</th>\n",
       "      <td>Jamestown</td>\n",
       "      <td>US</td>\n",
       "      <td>42.0970</td>\n",
       "      <td>-79.2353</td>\n",
       "      <td>72.77</td>\n",
       "      <td>72.77</td>\n",
       "      <td>56</td>\n",
       "      <td>40</td>\n",
       "      <td>11.50</td>\n",
       "    </tr>\n",
       "    <tr>\n",
       "      <th>8</th>\n",
       "      <td>Norman Wells</td>\n",
       "      <td>CA</td>\n",
       "      <td>65.2820</td>\n",
       "      <td>-126.8329</td>\n",
       "      <td>57.24</td>\n",
       "      <td>57.24</td>\n",
       "      <td>77</td>\n",
       "      <td>75</td>\n",
       "      <td>4.61</td>\n",
       "    </tr>\n",
       "    <tr>\n",
       "      <th>9</th>\n",
       "      <td>San Patricio</td>\n",
       "      <td>US</td>\n",
       "      <td>28.0170</td>\n",
       "      <td>-97.5169</td>\n",
       "      <td>93.06</td>\n",
       "      <td>93.06</td>\n",
       "      <td>40</td>\n",
       "      <td>33</td>\n",
       "      <td>15.79</td>\n",
       "    </tr>\n",
       "    <tr>\n",
       "      <th>10</th>\n",
       "      <td>Lyngdal</td>\n",
       "      <td>NO</td>\n",
       "      <td>58.1376</td>\n",
       "      <td>7.0700</td>\n",
       "      <td>65.89</td>\n",
       "      <td>65.89</td>\n",
       "      <td>71</td>\n",
       "      <td>94</td>\n",
       "      <td>3.49</td>\n",
       "    </tr>\n",
       "    <tr>\n",
       "      <th>11</th>\n",
       "      <td>Yatou</td>\n",
       "      <td>CN</td>\n",
       "      <td>37.1500</td>\n",
       "      <td>122.3833</td>\n",
       "      <td>76.42</td>\n",
       "      <td>76.42</td>\n",
       "      <td>89</td>\n",
       "      <td>90</td>\n",
       "      <td>5.21</td>\n",
       "    </tr>\n",
       "    <tr>\n",
       "      <th>12</th>\n",
       "      <td>Havelock</td>\n",
       "      <td>US</td>\n",
       "      <td>34.8791</td>\n",
       "      <td>-76.9013</td>\n",
       "      <td>88.47</td>\n",
       "      <td>88.47</td>\n",
       "      <td>75</td>\n",
       "      <td>75</td>\n",
       "      <td>6.91</td>\n",
       "    </tr>\n",
       "    <tr>\n",
       "      <th>13</th>\n",
       "      <td>Vukovar</td>\n",
       "      <td>HR</td>\n",
       "      <td>45.3433</td>\n",
       "      <td>18.9997</td>\n",
       "      <td>76.77</td>\n",
       "      <td>76.77</td>\n",
       "      <td>61</td>\n",
       "      <td>20</td>\n",
       "      <td>11.50</td>\n",
       "    </tr>\n",
       "    <tr>\n",
       "      <th>14</th>\n",
       "      <td>Saskylakh</td>\n",
       "      <td>RU</td>\n",
       "      <td>71.9167</td>\n",
       "      <td>114.0833</td>\n",
       "      <td>60.44</td>\n",
       "      <td>60.44</td>\n",
       "      <td>95</td>\n",
       "      <td>100</td>\n",
       "      <td>9.28</td>\n",
       "    </tr>\n",
       "    <tr>\n",
       "      <th>15</th>\n",
       "      <td>Madingou</td>\n",
       "      <td>CG</td>\n",
       "      <td>-4.1536</td>\n",
       "      <td>13.5500</td>\n",
       "      <td>82.22</td>\n",
       "      <td>82.22</td>\n",
       "      <td>50</td>\n",
       "      <td>40</td>\n",
       "      <td>10.89</td>\n",
       "    </tr>\n",
       "    <tr>\n",
       "      <th>16</th>\n",
       "      <td>Hasaki</td>\n",
       "      <td>JP</td>\n",
       "      <td>35.7333</td>\n",
       "      <td>140.8333</td>\n",
       "      <td>75.60</td>\n",
       "      <td>75.60</td>\n",
       "      <td>88</td>\n",
       "      <td>17</td>\n",
       "      <td>7.83</td>\n",
       "    </tr>\n",
       "  </tbody>\n",
       "</table>\n",
       "</div>"
      ],
      "text/plain": [
       "            CITY COUNTRY      LAT       LNG   TEMP  MAXTEMP  HUMIDITY  \\\n",
       "0        Iquique      CL -20.2208  -70.1431  60.84    60.84        65   \n",
       "1         Vostok      RU  46.4856  135.8833  64.29    64.29        99   \n",
       "2         Albany      US  42.6001  -73.9662  76.66    76.66        53   \n",
       "3   Puerto Ayora      EC  -0.7393  -90.3518  72.55    72.55        84   \n",
       "4     Banda Aceh      ID   5.5577   95.3222  80.40    80.40        76   \n",
       "5      Busselton      AU -33.6500  115.3333  53.69    53.69        64   \n",
       "6         Barrow      US  71.2906 -156.7887  38.26    38.26        83   \n",
       "7      Jamestown      US  42.0970  -79.2353  72.77    72.77        56   \n",
       "8   Norman Wells      CA  65.2820 -126.8329  57.24    57.24        77   \n",
       "9   San Patricio      US  28.0170  -97.5169  93.06    93.06        40   \n",
       "10       Lyngdal      NO  58.1376    7.0700  65.89    65.89        71   \n",
       "11         Yatou      CN  37.1500  122.3833  76.42    76.42        89   \n",
       "12      Havelock      US  34.8791  -76.9013  88.47    88.47        75   \n",
       "13       Vukovar      HR  45.3433   18.9997  76.77    76.77        61   \n",
       "14     Saskylakh      RU  71.9167  114.0833  60.44    60.44        95   \n",
       "15      Madingou      CG  -4.1536   13.5500  82.22    82.22        50   \n",
       "16        Hasaki      JP  35.7333  140.8333  75.60    75.60        88   \n",
       "\n",
       "    CLOUDINESS  WINDSPEED  \n",
       "0           22       5.26  \n",
       "1           64       4.54  \n",
       "2           15       1.99  \n",
       "3           83       5.01  \n",
       "4           99      12.08  \n",
       "5           99       5.46  \n",
       "6          100       7.96  \n",
       "7           40      11.50  \n",
       "8           75       4.61  \n",
       "9           33      15.79  \n",
       "10          94       3.49  \n",
       "11          90       5.21  \n",
       "12          75       6.91  \n",
       "13          20      11.50  \n",
       "14         100       9.28  \n",
       "15          40      10.89  \n",
       "16          17       7.83  "
      ]
     },
     "execution_count": 7,
     "metadata": {},
     "output_type": "execute_result"
    }
   ],
   "source": [
    "   \n",
    "# Set up df\n",
    "    \n",
    "data = {\n",
    "        \"CITY\": city_list,\n",
    "        \"COUNTRY\": country_list,\n",
    "        \"LAT\": lat_list,\n",
    "        \"LNG\": lng_list,\n",
    "        \"TEMP\": temp_list,\n",
    "        \"MAXTEMP\": maxtemp_list,\n",
    "        \"HUMIDITY\": humidity_list,\n",
    "        \"CLOUDINESS\": cloudiness_list,\n",
    "        \"WINDSPEED\": windspeed_list\n",
    "        }\n",
    "\n",
    "cityweather_df = pd.DataFrame(data=data)\n",
    "\n",
    "cityweather_df"
   ]
  },
  {
   "cell_type": "code",
   "execution_count": 8,
   "metadata": {},
   "outputs": [],
   "source": [
    "cityweather_df.to_csv(\"../output_data/cities.csv\", encoding=\"utf=8\")"
   ]
  },
  {
   "cell_type": "code",
   "execution_count": 9,
   "metadata": {},
   "outputs": [
    {
     "data": {
      "text/plain": [
       "CITY           object\n",
       "COUNTRY        object\n",
       "LAT           float64\n",
       "LNG           float64\n",
       "TEMP          float64\n",
       "MAXTEMP       float64\n",
       "HUMIDITY        int64\n",
       "CLOUDINESS      int64\n",
       "WINDSPEED     float64\n",
       "dtype: object"
      ]
     },
     "execution_count": 9,
     "metadata": {},
     "output_type": "execute_result"
    }
   ],
   "source": [
    "cityweather_df.dtypes"
   ]
  },
  {
   "cell_type": "markdown",
   "metadata": {},
   "source": [
    "## Inspect the data and remove the cities where the humidity > 100%.\n",
    "----\n",
    "Skip this step if there are no cities that have humidity > 100%. "
   ]
  },
  {
   "cell_type": "code",
   "execution_count": 10,
   "metadata": {},
   "outputs": [
    {
     "data": {
      "text/plain": [
       "0"
      ]
     },
     "execution_count": 10,
     "metadata": {},
     "output_type": "execute_result"
    }
   ],
   "source": [
    "(cityweather_df\n",
    "\n",
    "     .HUMIDITY\n",
    "     .gt(100)\n",
    "     .sum()\n",
    ")"
   ]
  },
  {
   "cell_type": "code",
   "execution_count": 11,
   "metadata": {},
   "outputs": [],
   "source": [
    "#  Get the indices of cities that have humidity over 100%.\n"
   ]
  },
  {
   "cell_type": "code",
   "execution_count": 12,
   "metadata": {},
   "outputs": [],
   "source": [
    "# Make a new DataFrame equal to the city data to drop all humidity outliers by index.\n",
    "# Passing \"inplace=False\" will make a copy of the city_data DataFrame, which we call \"clean_city_data\".\n"
   ]
  },
  {
   "cell_type": "markdown",
   "metadata": {},
   "source": [
    "## Plotting the Data\n",
    "* Use proper labeling of the plots using plot titles (including date of analysis) and axes labels.\n",
    "* Save the plotted figures as .pngs."
   ]
  },
  {
   "cell_type": "markdown",
   "metadata": {},
   "source": [
    "## Latitude vs. Temperature Plot"
   ]
  },
  {
   "cell_type": "code",
   "execution_count": 13,
   "metadata": {
    "scrolled": true
   },
   "outputs": [
    {
     "data": {
      "image/png": "[encoded data removed]",
      "text/plain": [
       "<Figure size 432x288 with 1 Axes>"
      ]
     },
     "metadata": {
      "needs_background": "light"
     },
     "output_type": "display_data"
    }
   ],
   "source": [
    "plt.scatter(cityweather_df[\"LAT\"], cityweather_df[\"TEMP\"], marker=\"o\")\n",
    "\n",
    "plt.title(\"Latitude vs. Temperature in World Cities\")\n",
    "plt.ylabel(\"Temperature (Fahrenheit)\")\n",
    "plt.xlabel(\"Latitude\")\n",
    "plt.grid(True)\n",
    "\n",
    "# plt.savefig(\"TemperatureInWorldCities.png\")\n",
    "\n",
    "# Show plot\n",
    "plt.show()"
   ]
  },
  {
   "cell_type": "markdown",
   "metadata": {},
   "source": [
    "## Latitude vs. Humidity Plot"
   ]
  },
  {
   "cell_type": "code",
   "execution_count": 14,
   "metadata": {},
   "outputs": [
    {
     "data": {
      "image/png": "[encoded data removed]",
      "text/plain": [
       "<Figure size 432x288 with 1 Axes>"
      ]
     },
     "metadata": {
      "needs_background": "light"
     },
     "output_type": "display_data"
    }
   ],
   "source": [
    "plt.scatter(cityweather_df[\"LAT\"], cityweather_df[\"HUMIDITY\"], marker=\"o\")\n",
    "\n",
    "plt.title(\"Latitude vs. Humidity in World Cities\")\n",
    "plt.ylabel(\"Humidity (%)\")\n",
    "plt.xlabel(\"Latitude\")\n",
    "plt.grid(True)\n",
    "\n",
    "# plt.savefig(\"HumidityInWorldCities.png\")\n",
    "\n",
    "# Show plot\n",
    "plt.show()"
   ]
  },
  {
   "cell_type": "markdown",
   "metadata": {},
   "source": [
    "## Latitude vs. Cloudiness Plot"
   ]
  },
  {
   "cell_type": "code",
   "execution_count": 15,
   "metadata": {},
   "outputs": [
    {
     "data": {
      "image/png": "[encoded data removed]",
      "text/plain": [
       "<Figure size 432x288 with 1 Axes>"
      ]
     },
     "metadata": {
      "needs_background": "light"
     },
     "output_type": "display_data"
    }
   ],
   "source": [
    "plt.scatter(cityweather_df[\"LAT\"], cityweather_df[\"CLOUDINESS\"], marker=\"o\")\n",
    "\n",
    "plt.title(\"Latitude vs. Cloudiness in World Cities\")\n",
    "plt.ylabel(\"Cloudiness (%)\")\n",
    "plt.xlabel(\"Latitude\")\n",
    "plt.grid(True)\n",
    "\n",
    "# plt.savefig(\"CloudinessInWorldCities.png\")\n",
    "\n",
    "# Show plot\n",
    "plt.show()"
   ]
  },
  {
   "cell_type": "markdown",
   "metadata": {},
   "source": [
    "## Latitude vs. Wind Speed Plot"
   ]
  },
  {
   "cell_type": "code",
   "execution_count": 16,
   "metadata": {},
   "outputs": [
    {
     "data": {
      "image/png": "[encoded data removed]",
      "text/plain": [
       "<Figure size 432x288 with 1 Axes>"
      ]
     },
     "metadata": {
      "needs_background": "light"
     },
     "output_type": "display_data"
    }
   ],
   "source": [
    "plt.scatter(cityweather_df[\"LAT\"], cityweather_df[\"WINDSPEED\"], marker=\"o\")\n",
    "\n",
    "plt.title(\"Latitude vs. Windspeed in World Cities\")\n",
    "plt.ylabel(\"Windspeed (mph)\")\n",
    "plt.xlabel(\"Latitude\")\n",
    "plt.grid(True)\n",
    "\n",
    "# plt.savefig(\"WindspeedInWorldCities.png\")\n",
    "\n",
    "# Show plot\n",
    "plt.show()"
   ]
  },
  {
   "cell_type": "markdown",
   "metadata": {},
   "source": [
    "## Linear Regression"
   ]
  },
  {
   "cell_type": "code",
   "execution_count": 17,
   "metadata": {},
   "outputs": [],
   "source": [
    "cityweather_df[\"HEMISPHERE\"] = 0\n",
    "\n",
    "# assign 1 to Northern Hemisphere cities\n",
    "\n",
    "cityweather_df.loc[(cityweather_df[\"LAT\"] >= 0), \"HEMISPHERE\"] = 1\n",
    "\n",
    "northern_latitudes = cityweather_df[\"HEMISPHERE\"] == 1\n",
    "southern_latitudes = cityweather_df[\"HEMISPHERE\"] == 0"
   ]
  },
  {
   "cell_type": "markdown",
   "metadata": {},
   "source": [
    "####  Northern Hemisphere - Max Temp vs. Latitude Linear Regression"
   ]
  },
  {
   "cell_type": "code",
   "execution_count": 18,
   "metadata": {},
   "outputs": [
    {
     "data": {
      "image/png": "[encoded data removed]",
      "text/plain": [
       "<Figure size 432x288 with 1 Axes>"
      ]
     },
     "metadata": {
      "needs_background": "light"
     },
     "output_type": "display_data"
    },
    {
     "data": {
      "image/png": "[encoded data removed]",
      "text/plain": [
       "<Figure size 432x288 with 1 Axes>"
      ]
     },
     "metadata": {
      "needs_background": "light"
     },
     "output_type": "display_data"
    }
   ],
   "source": [
    "maxtemps = cityweather_df[northern_latitudes][\"MAXTEMP\"]\n",
    "latitudes = cityweather_df[northern_latitudes][\"LAT\"]\n",
    "\n",
    "plt.scatter(maxtemps, latitudes)\n",
    "plt.xticks(np.arange(min(maxtemps), max(maxtemps) + 1, 5.0), rotation=45)\n",
    "plt.xlabel(\"Max Temps\")\n",
    "plt.ylabel(\"Latitudes\")\n",
    "plt.show()\n",
    "\n",
    "a_slope, a_int, a_r, a_p, a_std_err = linregress(maxtemps, latitudes) \n",
    "\n",
    "a_fit = a_slope * maxtemps + a_int \n",
    "\n",
    " # Plot the linear model on top of scatter plot \n",
    "    \n",
    "plt.scatter(maxtemps, latitudes)\n",
    "plt.plot(maxtemps, a_fit, \"--\")\n",
    "\n",
    "plt.xticks(np.arange(min(maxtemps), max(maxtemps) + 1, 5.0), rotation=45)\n",
    "\n",
    "# plt.xticks(maxtemps, rotation=90)\n",
    "\n",
    "plt.xlabel(\"Max Temps\")\n",
    "plt.ylabel(\"Latitudes\")\n",
    "plt.show()"
   ]
  },
  {
   "cell_type": "markdown",
   "metadata": {},
   "source": [
    "####  Southern Hemisphere - Max Temp vs. Latitude Linear Regression"
   ]
  },
  {
   "cell_type": "code",
   "execution_count": 19,
   "metadata": {},
   "outputs": [
    {
     "data": {
      "image/png": "[encoded data removed]",
      "text/plain": [
       "<Figure size 432x288 with 1 Axes>"
      ]
     },
     "metadata": {
      "needs_background": "light"
     },
     "output_type": "display_data"
    },
    {
     "data": {
      "image/png": "[encoded data removed]",
      "text/plain": [
       "<Figure size 432x288 with 1 Axes>"
      ]
     },
     "metadata": {
      "needs_background": "light"
     },
     "output_type": "display_data"
    }
   ],
   "source": [
    "maxtemps = cityweather_df[southern_latitudes][\"MAXTEMP\"]\n",
    "latitudes = cityweather_df[southern_latitudes][\"LAT\"]\n",
    "\n",
    "plt.scatter(maxtemps, latitudes)\n",
    "plt.xticks(np.arange(min(maxtemps), max(maxtemps) + 1, 5.0), rotation=45)\n",
    "plt.xlabel(\"Max Temps\")\n",
    "plt.ylabel(\"Latitudes\")\n",
    "plt.show()\n",
    "\n",
    "a_slope, a_int, a_r, a_p, a_std_err = linregress(maxtemps, latitudes) \n",
    "\n",
    "a_fit = a_slope * maxtemps + a_int \n",
    "\n",
    " # Plot the linear model on top of scatter plot \n",
    "    \n",
    "plt.scatter(maxtemps, latitudes)\n",
    "plt.plot(maxtemps, a_fit, \"--\")\n",
    "plt.xticks(np.arange(min(maxtemps), max(maxtemps) + 1, 5.0), rotation=45)\n",
    "plt.xlabel(\"Max Temps\")\n",
    "plt.ylabel(\"Latitudes\")\n",
    "plt.show()"
   ]
  },
  {
   "cell_type": "markdown",
   "metadata": {},
   "source": [
    "####  Northern Hemisphere - Humidity (%) vs. Latitude Linear Regression"
   ]
  },
  {
   "cell_type": "code",
   "execution_count": 20,
   "metadata": {},
   "outputs": [
    {
     "data": {
      "image/png": "[encoded data removed]",
      "text/plain": [
       "<Figure size 432x288 with 1 Axes>"
      ]
     },
     "metadata": {
      "needs_background": "light"
     },
     "output_type": "display_data"
    },
    {
     "data": {
      "image/png": "[encoded data removed]",
      "text/plain": [
       "<Figure size 432x288 with 1 Axes>"
      ]
     },
     "metadata": {
      "needs_background": "light"
     },
     "output_type": "display_data"
    }
   ],
   "source": [
    "humidities = cityweather_df[northern_latitudes][\"HUMIDITY\"]\n",
    "latitudes = cityweather_df[northern_latitudes][\"LAT\"]\n",
    "\n",
    "plt.scatter(humidities, latitudes)\n",
    "plt.xticks(np.arange(min(humidities), max(humidities) + 1, 5.0), rotation=45)\n",
    "plt.xlabel(\"Humidity (%)\")\n",
    "plt.ylabel(\"Latitudes\")\n",
    "plt.show()\n",
    "\n",
    "a_slope, a_int, a_r, a_p, a_std_err = linregress(humidities, latitudes) \n",
    "\n",
    "a_fit = a_slope * humidities + a_int \n",
    "\n",
    " # Plot the linear model on top of scatter plot \n",
    "    \n",
    "plt.scatter(humidities, latitudes)\n",
    "plt.plot(humidities, a_fit, \"--\")\n",
    "plt.xticks(np.arange(min(humidities), max(humidities) + 1, 5.0), rotation=45)\n",
    "plt.xlabel(\"Humidity (%)\")\n",
    "plt.ylabel(\"Latitudes\")\n",
    "plt.show()"
   ]
  },
  {
   "cell_type": "markdown",
   "metadata": {},
   "source": [
    "####  Southern Hemisphere - Humidity (%) vs. Latitude Linear Regression"
   ]
  },
  {
   "cell_type": "code",
   "execution_count": 21,
   "metadata": {},
   "outputs": [
    {
     "data": {
      "image/png": "[encoded data removed]",
      "text/plain": [
       "<Figure size 432x288 with 1 Axes>"
      ]
     },
     "metadata": {
      "needs_background": "light"
     },
     "output_type": "display_data"
    },
    {
     "data": {
      "image/png": "[encoded data removed]",
      "text/plain": [
       "<Figure size 432x288 with 1 Axes>"
      ]
     },
     "metadata": {
      "needs_background": "light"
     },
     "output_type": "display_data"
    }
   ],
   "source": [
    "humidities = cityweather_df[southern_latitudes][\"HUMIDITY\"]\n",
    "latitudes = cityweather_df[southern_latitudes][\"LAT\"]\n",
    "\n",
    "plt.scatter(humidities, latitudes)\n",
    "plt.xticks(np.arange(min(humidities), max(humidities) + 1, 5.0), rotation=45)\n",
    "plt.xlabel(\"Humidity (%)\")\n",
    "plt.ylabel(\"Latitudes\")\n",
    "plt.show()\n",
    "\n",
    "a_slope, a_int, a_r, a_p, a_std_err = linregress(humidities, latitudes) \n",
    "\n",
    "a_fit = a_slope * humidities + a_int \n",
    "\n",
    " # Plot the linear model on top of scatter plot \n",
    "    \n",
    "plt.scatter(humidities, latitudes)\n",
    "plt.plot(humidities, a_fit, \"--\")\n",
    "plt.xticks(np.arange(min(humidities), max(humidities) + 1, 5.0), rotation=45)\n",
    "plt.xlabel(\"Humidity (%)\")\n",
    "plt.ylabel(\"Latitudes\")\n",
    "plt.show()"
   ]
  },
  {
   "cell_type": "markdown",
   "metadata": {},
   "source": [
    "####  Northern Hemisphere - Cloudiness (%) vs. Latitude Linear Regression"
   ]
  },
  {
   "cell_type": "code",
   "execution_count": 22,
   "metadata": {},
   "outputs": [
    {
     "data": {
      "image/png": "[encoded data removed]",
      "text/plain": [
       "<Figure size 432x288 with 1 Axes>"
      ]
     },
     "metadata": {
      "needs_background": "light"
     },
     "output_type": "display_data"
    },
    {
     "data": {
      "image/png": "[encoded data removed]",
      "text/plain": [
       "<Figure size 432x288 with 1 Axes>"
      ]
     },
     "metadata": {
      "needs_background": "light"
     },
     "output_type": "display_data"
    }
   ],
   "source": [
    "cloudinesses = cityweather_df[northern_latitudes][\"CLOUDINESS\"]\n",
    "latitudes = cityweather_df[northern_latitudes][\"LAT\"]\n",
    "\n",
    "plt.scatter(cloudinesses, latitudes)\n",
    "plt.xticks(np.arange(min(cloudinesses), max(cloudinesses) + 1, 5.0), rotation=45)\n",
    "plt.xlabel(\"Cloudiness (%)\")\n",
    "plt.ylabel(\"Latitudes\")\n",
    "plt.show()\n",
    "\n",
    "a_slope, a_int, a_r, a_p, a_std_err = linregress(cloudinesses, latitudes) \n",
    "\n",
    "a_fit = a_slope * cloudinesses + a_int \n",
    "\n",
    " # Plot the linear model on top of scatter plot \n",
    "    \n",
    "plt.scatter(cloudinesses, latitudes)\n",
    "plt.plot(cloudinesses, a_fit, \"--\")\n",
    "plt.xticks(np.arange(min(cloudinesses), max(cloudinesses) + 1, 5.0), rotation=45)\n",
    "plt.xlabel(\"Cloudiness (%)\")\n",
    "plt.ylabel(\"Latitudes\")\n",
    "plt.show()"
   ]
  },
  {
   "cell_type": "markdown",
   "metadata": {},
   "source": [
    "####  Southern Hemisphere - Cloudiness (%) vs. Latitude Linear Regression"
   ]
  },
  {
   "cell_type": "code",
   "execution_count": 23,
   "metadata": {},
   "outputs": [
    {
     "data": {
      "image/png": "[encoded data removed]",
      "text/plain": [
       "<Figure size 432x288 with 1 Axes>"
      ]
     },
     "metadata": {
      "needs_background": "light"
     },
     "output_type": "display_data"
    },
    {
     "data": {
      "image/png": "[encoded data removed]",
      "text/plain": [
       "<Figure size 432x288 with 1 Axes>"
      ]
     },
     "metadata": {
      "needs_background": "light"
     },
     "output_type": "display_data"
    }
   ],
   "source": [
    "cloudinesses = cityweather_df[southern_latitudes][\"CLOUDINESS\"]\n",
    "latitudes = cityweather_df[southern_latitudes][\"LAT\"]\n",
    "\n",
    "plt.scatter(cloudinesses, latitudes)\n",
    "plt.xticks(np.arange(min(cloudinesses), max(cloudinesses) + 1, 5.0), rotation=45)\n",
    "plt.xlabel(\"Cloudiness (%)\")\n",
    "plt.ylabel(\"Latitudes\")\n",
    "plt.show()\n",
    "\n",
    "a_slope, a_int, a_r, a_p, a_std_err = linregress(cloudinesses, latitudes) \n",
    "\n",
    "a_fit = a_slope * cloudinesses + a_int \n",
    "\n",
    " # Plot the linear model on top of scatter plot \n",
    "    \n",
    "plt.scatter(cloudinesses, latitudes)\n",
    "plt.plot(cloudinesses, a_fit, \"--\")\n",
    "plt.xticks(np.arange(min(cloudinesses), max(cloudinesses) + 1, 5.0), rotation=45)\n",
    "plt.xlabel(\"Cloudiness (%)\")\n",
    "plt.ylabel(\"Latitudes\")\n",
    "plt.show()"
   ]
  },
  {
   "cell_type": "markdown",
   "metadata": {},
   "source": [
    "####  Northern Hemisphere - Wind Speed (mph) vs. Latitude Linear Regression"
   ]
  },
  {
   "cell_type": "code",
   "execution_count": 24,
   "metadata": {},
   "outputs": [
    {
     "data": {
      "image/png": "[encoded data removed]",
      "text/plain": [
       "<Figure size 432x288 with 1 Axes>"
      ]
     },
     "metadata": {
      "needs_background": "light"
     },
     "output_type": "display_data"
    },
    {
     "data": {
      "image/png": "[encoded data removed]",
      "text/plain": [
       "<Figure size 432x288 with 1 Axes>"
      ]
     },
     "metadata": {
      "needs_background": "light"
     },
     "output_type": "display_data"
    }
   ],
   "source": [
    "windspeeds = cityweather_df[northern_latitudes][\"WINDSPEED\"]\n",
    "latitudes = cityweather_df[northern_latitudes][\"LAT\"]\n",
    "\n",
    "plt.scatter(windspeeds, latitudes)\n",
    "plt.xticks(np.arange(min(windspeeds), max(windspeeds) + 1, 5.0), rotation=45)\n",
    "plt.xlabel(\"Wind Speed (mph)\")\n",
    "plt.ylabel(\"Latitudes\")\n",
    "plt.show()\n",
    "\n",
    "a_slope, a_int, a_r, a_p, a_std_err = linregress(windspeeds, latitudes) \n",
    "\n",
    "a_fit = a_slope * windspeeds + a_int \n",
    "\n",
    " # Plot the linear model on top of scatter plot \n",
    "    \n",
    "plt.scatter(windspeeds, latitudes)\n",
    "plt.plot(windspeeds, a_fit, \"--\")\n",
    "plt.xticks(np.arange(min(windspeeds), max(windspeeds) + 1, 5.0), rotation=45)\n",
    "plt.xlabel(\"Wind Speed (mph)\")\n",
    "plt.ylabel(\"Latitudes\")\n",
    "plt.show()"
   ]
  },
  {
   "cell_type": "markdown",
   "metadata": {},
   "source": [
    "####  Southern Hemisphere - Wind Speed (mph) vs. Latitude Linear Regression"
   ]
  },
  {
   "cell_type": "code",
   "execution_count": 25,
   "metadata": {},
   "outputs": [
    {
     "data": {
      "image/png": "[encoded data removed]",
      "text/plain": [
       "<Figure size 432x288 with 1 Axes>"
      ]
     },
     "metadata": {
      "needs_background": "light"
     },
     "output_type": "display_data"
    },
    {
     "data": {
      "image/png": "[encoded data removed]",
      "text/plain": [
       "<Figure size 432x288 with 1 Axes>"
      ]
     },
     "metadata": {
      "needs_background": "light"
     },
     "output_type": "display_data"
    }
   ],
   "source": [
    "windspeeds = cityweather_df[southern_latitudes][\"WINDSPEED\"]\n",
    "latitudes = cityweather_df[southern_latitudes][\"LAT\"]\n",
    "\n",
    "plt.scatter(windspeeds, latitudes)\n",
    "plt.xticks(np.arange(min(windspeeds), max(windspeeds) + 1, 5.0), rotation=45)\n",
    "plt.xlabel(\"Wind Speeds (mph)\")\n",
    "plt.ylabel(\"Latitudes\")\n",
    "plt.show()\n",
    "\n",
    "a_slope, a_int, a_r, a_p, a_std_err = linregress(windspeeds, latitudes) \n",
    "\n",
    "a_fit = a_slope * windspeeds + a_int \n",
    "\n",
    " # Plot the linear model on top of scatter plot \n",
    "    \n",
    "plt.scatter(windspeeds, latitudes)\n",
    "plt.plot(windspeeds, a_fit, \"--\")\n",
    "plt.xticks(np.arange(min(windspeeds), max(windspeeds) + 1, 5.0), rotation=45)\n",
    "plt.xlabel(\"Wind Speeds (mph)\")\n",
    "plt.ylabel(\"Latitudes\")\n",
    "plt.show()"
   ]
  },
  {
   "cell_type": "code",
   "execution_count": null,
   "metadata": {},
   "outputs": [],
   "source": []
  }
 ],
 "metadata": {
  "anaconda-cloud": {},
  "kernel_info": {
   "name": "python3"
  },
  "kernelspec": {
   "display_name": "Python 3 (ipykernel)",
   "language": "python",
   "name": "python3"
  },
  "language_info": {
   "codemirror_mode": {
    "name": "ipython",
    "version": 3
   },
   "file_extension": ".py",
   "mimetype": "text/x-python",
   "name": "python",
   "nbconvert_exporter": "python",
   "pygments_lexer": "ipython3",
   "version": "3.8.13"
  },
  "latex_envs": {
   "LaTeX_envs_menu_present": true,
   "autoclose": false,
   "autocomplete": true,
   "bibliofile": "biblio.bib",
   "cite_by": "apalike",
   "current_citInitial": 1,
   "eqLabelWithNumbers": true,
   "eqNumInitial": 1,
   "hotkeys": {
    "equation": "Ctrl-E",
    "itemize": "Ctrl-I"
   },
   "labels_anchors": false,
   "latex_user_defs": false,
   "report_style_numbering": false,
   "user_envs_cfg": false
  },
  "nteract": {
   "version": "0.12.3"
  }
 },
 "nbformat": 4,
 "nbformat_minor": 2
}
