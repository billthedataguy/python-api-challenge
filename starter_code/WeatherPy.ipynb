{
 "cells": [
  {
   "cell_type": "markdown",
   "metadata": {},
   "source": [
    "# WeatherPy\n",
    "----\n",
    "\n",
    "#### Note\n",
    "* Instructions have been included for each segment. You do not have to follow them exactly, but they are included to help you think through the steps."
   ]
  },
  {
   "cell_type": "code",
   "execution_count": 1,
   "metadata": {
    "scrolled": true
   },
   "outputs": [],
   "source": [
    "# Dependencies and Setup\n",
    "\n",
    "import matplotlib.pyplot as plt\n",
    "import pandas as pd\n",
    "import numpy as np\n",
    "import requests\n",
    "import time\n",
    "from scipy.stats import linregress\n",
    "from pprint import pprint\n",
    "\n",
    "# Import API key\n",
    "\n",
    "from api_keys import weather_api_key\n",
    "\n",
    "# Incorporated citipy to determine city based on latitude and longitude\n",
    "\n",
    "from citipy import citipy\n",
    "\n",
    "# Output File (CSV)\n",
    "\n",
    "output_data_file = \"output_data/cities.csv\"\n",
    "\n",
    "# Range of latitudes and longitudes\n",
    "\n",
    "lat_range = (-90, 90)\n",
    "lng_range = (-180, 180)"
   ]
  },
  {
   "cell_type": "markdown",
   "metadata": {},
   "source": [
    "## Generate Cities List"
   ]
  },
  {
   "cell_type": "code",
   "execution_count": 2,
   "metadata": {},
   "outputs": [
    {
     "data": {
      "text/plain": [
       "628"
      ]
     },
     "execution_count": 2,
     "metadata": {},
     "output_type": "execute_result"
    }
   ],
   "source": [
    "# List for holding lat_lngs and cities\n",
    "\n",
    "lat_lngs = []\n",
    "cities = []\n",
    "\n",
    "# Create a set of random lat and lng combinations\n",
    "\n",
    "lats = np.random.uniform(lat_range[0], lat_range[1], size=1500)\n",
    "lngs = np.random.uniform(lng_range[0], lng_range[1], size=1500)\n",
    "\n",
    "lat_lngs = zip(lats, lngs)\n",
    "\n",
    "# Identify nearest city for each lat, lng combination\n",
    "\n",
    "for lat_lng in lat_lngs:\n",
    "    \n",
    "    city = citipy.nearest_city(lat_lng[0], lat_lng[1]).city_name\n",
    "    \n",
    "    # If the city is unique, then add it to a our cities list\n",
    "    \n",
    "    if city not in cities:\n",
    "        \n",
    "        cities.append(city)\n",
    "\n",
    "# Print the city count to confirm sufficient count\n",
    "\n",
    "len(cities)"
   ]
  },
  {
   "cell_type": "markdown",
   "metadata": {},
   "source": [
    "### Perform API Calls\n",
    "* Perform a weather check on each city using a series of successive API calls.\n",
    "* Include a print log of each city as it's being processed (with the city number and city name).\n"
   ]
  },
  {
   "cell_type": "code",
   "execution_count": 3,
   "metadata": {},
   "outputs": [],
   "source": [
    "# Save config information\n",
    "    \n",
    "base_url = \"http://api.openweathermap.org/data/2.5/weather?\"\n",
    "api_key = weather_api_key\n",
    "units = \"imperial\"\n",
    "\n",
    "rawjson_list = []\n",
    "city_list = []\n",
    "lat_list = []\n",
    "temp_list = []\n",
    "maxtemp_list = []\n",
    "humidity_list = []\n",
    "cloudiness_list = []\n",
    "windspeed_list = []"
   ]
  },
  {
   "cell_type": "code",
   "execution_count": 5,
   "metadata": {},
   "outputs": [
    {
     "name": "stdout",
     "output_type": "stream",
     "text": [
      "0 Info missing for  ... skipping!\n",
      "1 Working on Puno ...\n",
      "2 Working on Bluff ...\n",
      "3 Working on Surat ...\n",
      "4 Working on Jamestown ...\n",
      "5 Working on Nikolskoye ...\n",
      "DONE!\n"
     ]
    }
   ],
   "source": [
    "# for loop for api calls\n",
    "\n",
    "# we need to assure that we don't save \"missing data\" cities\n",
    "\n",
    "for num,city in enumerate(cities[:6]):\n",
    "        \n",
    "    query_url = f\"{base_url}appid={api_key}&q={city}&units={units}\"\n",
    "\n",
    "    weather_response = requests.get(query_url)\n",
    "    weather_json = weather_response.json()\n",
    "    weather_city = \"\"\n",
    "    \n",
    "    try:\n",
    "        \n",
    "        weather_city = weather_json[\"name\"]\n",
    "        \n",
    "\n",
    "        weather_lat = weather_json[\"coord\"][\"lat\"]\n",
    "        \n",
    "        \n",
    "        weather_temp = weather_json[\"main\"][\"temp\"]              # in Kelvin, need imperial (degrees F)\n",
    "        \n",
    "        \n",
    "        weather_maxtemp = weather_json[\"main\"][\"temp_max\"]              # in Kelvin, need imperial (degrees F)\n",
    "        \n",
    "\n",
    "        weather_humidity = weather_json[\"main\"][\"humidity\"]      # not always provided (need try ... except), in %\n",
    "        \n",
    "\n",
    "        weather_cloudiness = weather_json[\"clouds\"][\"all\"]       # in % \n",
    "        \n",
    "\n",
    "        weather_windspeed = weather_json[\"wind\"][\"speed\"]       # in meter/sec, need imperial (miles/hr)\n",
    "        \n",
    "                \n",
    "    except:\n",
    "        \n",
    "        print(f\"{num} Info missing for {weather_city} ... skipping!\")\n",
    "        continue        \n",
    "    \n",
    "    else:\n",
    "        \n",
    "        print(f\"{num} Working on {weather_city} ...\")\n",
    "        \n",
    "        rawjson_list.append(weather_json)\n",
    "        city_list.append(weather_city)\n",
    "        lat_list.append(weather_lat)\n",
    "        temp_list.append(weather_temp)\n",
    "        maxtemp_list.append(weather_temp)\n",
    "        humidity_list.append(weather_humidity)\n",
    "        cloudiness_list.append(weather_cloudiness)\n",
    "        windspeed_list.append(weather_windspeed)\n",
    "    \n",
    "    finally:\n",
    "    \n",
    "        time.sleep(2)\n",
    "\n",
    "print(f\"DONE!\")"
   ]
  },
  {
   "cell_type": "code",
   "execution_count": 6,
   "metadata": {},
   "outputs": [
    {
     "name": "stdout",
     "output_type": "stream",
     "text": [
      "{'base': 'stations',\n",
      " 'clouds': {'all': 60},\n",
      " 'cod': 200,\n",
      " 'coord': {'lat': -15.8333, 'lon': -70.0333},\n",
      " 'dt': 1659048424,\n",
      " 'id': 3931276,\n",
      " 'main': {'feels_like': 55.9,\n",
      "          'grnd_level': 646,\n",
      "          'humidity': 38,\n",
      "          'pressure': 1016,\n",
      "          'sea_level': 1016,\n",
      "          'temp': 58.57,\n",
      "          'temp_max': 58.57,\n",
      "          'temp_min': 58.57},\n",
      " 'name': 'Puno',\n",
      " 'sys': {'country': 'PE',\n",
      "         'id': 8667,\n",
      "         'sunrise': 1659006312,\n",
      "         'sunset': 1659047269,\n",
      "         'type': 1},\n",
      " 'timezone': -18000,\n",
      " 'visibility': 10000,\n",
      " 'weather': [{'description': 'broken clouds',\n",
      "              'icon': '04n',\n",
      "              'id': 803,\n",
      "              'main': 'Clouds'}],\n",
      " 'wind': {'deg': 96, 'gust': 3.15, 'speed': 2.17}}\n",
      "{'base': 'stations',\n",
      " 'clouds': {'all': 86},\n",
      " 'cod': 200,\n",
      " 'coord': {'lat': -46.6, 'lon': 168.3333},\n",
      " 'dt': 1659048426,\n",
      " 'id': 2206939,\n",
      " 'main': {'feels_like': 42.73,\n",
      "          'grnd_level': 1001,\n",
      "          'humidity': 73,\n",
      "          'pressure': 1004,\n",
      "          'sea_level': 1004,\n",
      "          'temp': 47.8,\n",
      "          'temp_max': 47.8,\n",
      "          'temp_min': 47.8},\n",
      " 'name': 'Bluff',\n",
      " 'sys': {'country': 'NZ',\n",
      "         'id': 2008959,\n",
      "         'sunrise': 1659039141,\n",
      "         'sunset': 1659072824,\n",
      "         'type': 2},\n",
      " 'timezone': 43200,\n",
      " 'visibility': 10000,\n",
      " 'weather': [{'description': 'overcast clouds',\n",
      "              'icon': '04d',\n",
      "              'id': 804,\n",
      "              'main': 'Clouds'}],\n",
      " 'wind': {'deg': 282, 'gust': 18.45, 'speed': 11.77}}\n",
      "{'base': 'stations',\n",
      " 'clouds': {'all': 89},\n",
      " 'cod': 200,\n",
      " 'coord': {'lat': 21.1667, 'lon': 72.8333},\n",
      " 'dt': 1659048429,\n",
      " 'id': 1255364,\n",
      " 'main': {'feels_like': 85.55,\n",
      "          'grnd_level': 1007,\n",
      "          'humidity': 85,\n",
      "          'pressure': 1007,\n",
      "          'sea_level': 1007,\n",
      "          'temp': 80.26,\n",
      "          'temp_max': 80.26,\n",
      "          'temp_min': 80.26},\n",
      " 'name': 'Surat',\n",
      " 'sys': {'country': 'IN', 'sunrise': 1659055255, 'sunset': 1659102549},\n",
      " 'timezone': 19800,\n",
      " 'visibility': 10000,\n",
      " 'weather': [{'description': 'overcast clouds',\n",
      "              'icon': '04n',\n",
      "              'id': 804,\n",
      "              'main': 'Clouds'}],\n",
      " 'wind': {'deg': 264, 'gust': 11.25, 'speed': 6.69}}\n",
      "{'base': 'stations',\n",
      " 'clouds': {'all': 0},\n",
      " 'cod': 200,\n",
      " 'coord': {'lat': 42.097, 'lon': -79.2353},\n",
      " 'dt': 1659048357,\n",
      " 'id': 5122534,\n",
      " 'main': {'feels_like': 77.38,\n",
      "          'humidity': 32,\n",
      "          'pressure': 1012,\n",
      "          'temp': 78.33,\n",
      "          'temp_max': 78.53,\n",
      "          'temp_min': 77.72},\n",
      " 'name': 'Jamestown',\n",
      " 'sys': {'country': 'US',\n",
      "         'id': 4588,\n",
      "         'sunrise': 1659002764,\n",
      "         'sunset': 1659055235,\n",
      "         'type': 1},\n",
      " 'timezone': -14400,\n",
      " 'visibility': 10000,\n",
      " 'weather': [{'description': 'clear sky',\n",
      "              'icon': '01d',\n",
      "              'id': 800,\n",
      "              'main': 'Clear'}],\n",
      " 'wind': {'deg': 280, 'gust': 21.85, 'speed': 13.8}}\n",
      "{'base': 'stations',\n",
      " 'clouds': {'all': 97},\n",
      " 'cod': 200,\n",
      " 'coord': {'lat': 59.7035, 'lon': 30.7861},\n",
      " 'dt': 1659048433,\n",
      " 'id': 546105,\n",
      " 'main': {'feels_like': 57.13,\n",
      "          'grnd_level': 1010,\n",
      "          'humidity': 87,\n",
      "          'pressure': 1014,\n",
      "          'sea_level': 1014,\n",
      "          'temp': 57.58,\n",
      "          'temp_max': 59.81,\n",
      "          'temp_min': 53.78},\n",
      " 'name': 'Nikolskoye',\n",
      " 'sys': {'country': 'RU',\n",
      "         'id': 47750,\n",
      "         'sunrise': 1659058331,\n",
      "         'sunset': 1659119656,\n",
      "         'type': 2},\n",
      " 'timezone': 10800,\n",
      " 'visibility': 10000,\n",
      " 'weather': [{'description': 'overcast clouds',\n",
      "              'icon': '04n',\n",
      "              'id': 804,\n",
      "              'main': 'Clouds'}],\n",
      " 'wind': {'deg': 259, 'gust': 6.06, 'speed': 3.62}}\n"
     ]
    }
   ],
   "source": [
    "for rawjson in rawjson_list:\n",
    "    pprint(rawjson)"
   ]
  },
  {
   "cell_type": "markdown",
   "metadata": {},
   "source": [
    "### Convert Raw Data to DataFrame\n",
    "* Export the city data into a .csv.\n",
    "* Display the DataFrame"
   ]
  },
  {
   "cell_type": "code",
   "execution_count": 7,
   "metadata": {},
   "outputs": [
    {
     "data": {
      "text/html": [
       "<div>\n",
       "<style scoped>\n",
       "    .dataframe tbody tr th:only-of-type {\n",
       "        vertical-align: middle;\n",
       "    }\n",
       "\n",
       "    .dataframe tbody tr th {\n",
       "        vertical-align: top;\n",
       "    }\n",
       "\n",
       "    .dataframe thead th {\n",
       "        text-align: right;\n",
       "    }\n",
       "</style>\n",
       "<table border=\"1\" class=\"dataframe\">\n",
       "  <thead>\n",
       "    <tr style=\"text-align: right;\">\n",
       "      <th></th>\n",
       "      <th>CITY</th>\n",
       "      <th>LAT</th>\n",
       "      <th>TEMP</th>\n",
       "      <th>MAXTEMP</th>\n",
       "      <th>HUMIDITY</th>\n",
       "      <th>CLOUDINESS</th>\n",
       "      <th>WINDSPEED</th>\n",
       "    </tr>\n",
       "  </thead>\n",
       "  <tbody>\n",
       "    <tr>\n",
       "      <th>0</th>\n",
       "      <td>Puno</td>\n",
       "      <td>-15.8333</td>\n",
       "      <td>58.57</td>\n",
       "      <td>58.57</td>\n",
       "      <td>38</td>\n",
       "      <td>60</td>\n",
       "      <td>2.17</td>\n",
       "    </tr>\n",
       "    <tr>\n",
       "      <th>1</th>\n",
       "      <td>Bluff</td>\n",
       "      <td>-46.6000</td>\n",
       "      <td>47.80</td>\n",
       "      <td>47.80</td>\n",
       "      <td>73</td>\n",
       "      <td>86</td>\n",
       "      <td>11.77</td>\n",
       "    </tr>\n",
       "    <tr>\n",
       "      <th>2</th>\n",
       "      <td>Surat</td>\n",
       "      <td>21.1667</td>\n",
       "      <td>80.26</td>\n",
       "      <td>80.26</td>\n",
       "      <td>85</td>\n",
       "      <td>89</td>\n",
       "      <td>6.69</td>\n",
       "    </tr>\n",
       "    <tr>\n",
       "      <th>3</th>\n",
       "      <td>Jamestown</td>\n",
       "      <td>42.0970</td>\n",
       "      <td>78.33</td>\n",
       "      <td>78.33</td>\n",
       "      <td>32</td>\n",
       "      <td>0</td>\n",
       "      <td>13.80</td>\n",
       "    </tr>\n",
       "    <tr>\n",
       "      <th>4</th>\n",
       "      <td>Nikolskoye</td>\n",
       "      <td>59.7035</td>\n",
       "      <td>57.58</td>\n",
       "      <td>57.58</td>\n",
       "      <td>87</td>\n",
       "      <td>97</td>\n",
       "      <td>3.62</td>\n",
       "    </tr>\n",
       "  </tbody>\n",
       "</table>\n",
       "</div>"
      ],
      "text/plain": [
       "         CITY      LAT   TEMP  MAXTEMP  HUMIDITY  CLOUDINESS  WINDSPEED\n",
       "0        Puno -15.8333  58.57    58.57        38          60       2.17\n",
       "1       Bluff -46.6000  47.80    47.80        73          86      11.77\n",
       "2       Surat  21.1667  80.26    80.26        85          89       6.69\n",
       "3   Jamestown  42.0970  78.33    78.33        32           0      13.80\n",
       "4  Nikolskoye  59.7035  57.58    57.58        87          97       3.62"
      ]
     },
     "execution_count": 7,
     "metadata": {},
     "output_type": "execute_result"
    }
   ],
   "source": [
    " # Set up df\n",
    "    \n",
    "data = {\n",
    "        \"CITY\": [],\n",
    "        \"LAT\": [],\n",
    "        \"TEMP\": [],\n",
    "        \"MAXTEMP\": [],\n",
    "        \"HUMIDITY\": [],\n",
    "        \"CLOUDINESS\": [],\n",
    "        \"WINDSPEED\": [],\n",
    "        }\n",
    "\n",
    "cityweather_df = pd.DataFrame(data=data)\n",
    "    \n",
    "cityweather_df[\"CITY\"] = city_list\n",
    "cityweather_df[\"LAT\"] = lat_list\n",
    "cityweather_df[\"TEMP\"] = temp_list\n",
    "cityweather_df[\"MAXTEMP\"] = maxtemp_list\n",
    "cityweather_df[\"HUMIDITY\"] = humidity_list\n",
    "cityweather_df[\"CLOUDINESS\"] = cloudiness_list\n",
    "cityweather_df[\"WINDSPEED\"] = windspeed_list\n",
    "\n",
    "cityweather_df"
   ]
  },
  {
   "cell_type": "code",
   "execution_count": 8,
   "metadata": {},
   "outputs": [
    {
     "data": {
      "text/plain": [
       "CITY           object\n",
       "LAT           float64\n",
       "TEMP          float64\n",
       "MAXTEMP       float64\n",
       "HUMIDITY        int64\n",
       "CLOUDINESS      int64\n",
       "WINDSPEED     float64\n",
       "dtype: object"
      ]
     },
     "execution_count": 8,
     "metadata": {},
     "output_type": "execute_result"
    }
   ],
   "source": [
    "cityweather_df.dtypes"
   ]
  },
  {
   "cell_type": "markdown",
   "metadata": {},
   "source": [
    "## Inspect the data and remove the cities where the humidity > 100%.\n",
    "----\n",
    "Skip this step if there are no cities that have humidity > 100%. "
   ]
  },
  {
   "cell_type": "code",
   "execution_count": 9,
   "metadata": {},
   "outputs": [
    {
     "data": {
      "text/plain": [
       "0"
      ]
     },
     "execution_count": 9,
     "metadata": {},
     "output_type": "execute_result"
    }
   ],
   "source": [
    "(cityweather_df\n",
    "\n",
    "     .HUMIDITY\n",
    "     .gt(100)\n",
    "     .sum()\n",
    ")"
   ]
  },
  {
   "cell_type": "code",
   "execution_count": 10,
   "metadata": {},
   "outputs": [],
   "source": [
    "#  Get the indices of cities that have humidity over 100%.\n"
   ]
  },
  {
   "cell_type": "code",
   "execution_count": 11,
   "metadata": {},
   "outputs": [],
   "source": [
    "# Make a new DataFrame equal to the city data to drop all humidity outliers by index.\n",
    "# Passing \"inplace=False\" will make a copy of the city_data DataFrame, which we call \"clean_city_data\".\n"
   ]
  },
  {
   "cell_type": "code",
   "execution_count": null,
   "metadata": {},
   "outputs": [],
   "source": [
    "\n"
   ]
  },
  {
   "cell_type": "markdown",
   "metadata": {},
   "source": [
    "## Plotting the Data\n",
    "* Use proper labeling of the plots using plot titles (including date of analysis) and axes labels.\n",
    "* Save the plotted figures as .pngs."
   ]
  },
  {
   "cell_type": "markdown",
   "metadata": {},
   "source": [
    "## Latitude vs. Temperature Plot"
   ]
  },
  {
   "cell_type": "code",
   "execution_count": 12,
   "metadata": {
    "scrolled": true
   },
   "outputs": [
    {
     "data": {
      "image/png": "[encoded data removed]",
      "text/plain": [
       "<Figure size 432x288 with 1 Axes>"
      ]
     },
     "metadata": {
      "needs_background": "light"
     },
     "output_type": "display_data"
    }
   ],
   "source": [
    "plt.scatter(cityweather_df[\"LAT\"], cityweather_df[\"TEMP\"], marker=\"o\")\n",
    "\n",
    "plt.title(\"Latitude vs. Temperature in World Cities\")\n",
    "plt.ylabel(\"Temperature (Fahrenheit)\")\n",
    "plt.xlabel(\"Latitude\")\n",
    "plt.grid(True)\n",
    "\n",
    "# plt.savefig(\"TemperatureInWorldCities.png\")\n",
    "\n",
    "# Show plot\n",
    "plt.show()"
   ]
  },
  {
   "cell_type": "markdown",
   "metadata": {},
   "source": [
    "## Latitude vs. Humidity Plot"
   ]
  },
  {
   "cell_type": "code",
   "execution_count": 13,
   "metadata": {},
   "outputs": [
    {
     "data": {
      "image/png": "[encoded data removed]",
      "text/plain": [
       "<Figure size 432x288 with 1 Axes>"
      ]
     },
     "metadata": {
      "needs_background": "light"
     },
     "output_type": "display_data"
    }
   ],
   "source": [
    "plt.scatter(cityweather_df[\"LAT\"], cityweather_df[\"HUMIDITY\"], marker=\"o\")\n",
    "\n",
    "plt.title(\"Latitude vs. Humidity in World Cities\")\n",
    "plt.ylabel(\"Humidity (%)\")\n",
    "plt.xlabel(\"Latitude\")\n",
    "plt.grid(True)\n",
    "\n",
    "# plt.savefig(\"HumidityInWorldCities.png\")\n",
    "\n",
    "# Show plot\n",
    "plt.show()"
   ]
  },
  {
   "cell_type": "markdown",
   "metadata": {},
   "source": [
    "## Latitude vs. Cloudiness Plot"
   ]
  },
  {
   "cell_type": "code",
   "execution_count": 14,
   "metadata": {},
   "outputs": [
    {
     "data": {
      "image/png": "[encoded data removed]",
      "text/plain": [
       "<Figure size 432x288 with 1 Axes>"
      ]
     },
     "metadata": {
      "needs_background": "light"
     },
     "output_type": "display_data"
    }
   ],
   "source": [
    "plt.scatter(cityweather_df[\"LAT\"], cityweather_df[\"CLOUDINESS\"], marker=\"o\")\n",
    "\n",
    "plt.title(\"Latitude vs. Cloudiness in World Cities\")\n",
    "plt.ylabel(\"Cloudiness (%)\")\n",
    "plt.xlabel(\"Latitude\")\n",
    "plt.grid(True)\n",
    "\n",
    "# plt.savefig(\"CloudinessInWorldCities.png\")\n",
    "\n",
    "# Show plot\n",
    "plt.show()"
   ]
  },
  {
   "cell_type": "markdown",
   "metadata": {},
   "source": [
    "## Latitude vs. Wind Speed Plot"
   ]
  },
  {
   "cell_type": "code",
   "execution_count": 15,
   "metadata": {},
   "outputs": [
    {
     "data": {
      "image/png": "[encoded data removed]",
      "text/plain": [
       "<Figure size 432x288 with 1 Axes>"
      ]
     },
     "metadata": {
      "needs_background": "light"
     },
     "output_type": "display_data"
    }
   ],
   "source": [
    "plt.scatter(cityweather_df[\"LAT\"], cityweather_df[\"WINDSPEED\"], marker=\"o\")\n",
    "\n",
    "plt.title(\"Latitude vs. Windspeed in World Cities\")\n",
    "plt.ylabel(\"Windspeed (mph)\")\n",
    "plt.xlabel(\"Latitude\")\n",
    "plt.grid(True)\n",
    "\n",
    "# plt.savefig(\"WindspeedInWorldCities.png\")\n",
    "\n",
    "# Show plot\n",
    "plt.show()"
   ]
  },
  {
   "cell_type": "markdown",
   "metadata": {},
   "source": [
    "## Linear Regression"
   ]
  },
  {
   "cell_type": "code",
   "execution_count": 16,
   "metadata": {},
   "outputs": [],
   "source": [
    "cityweather_df[\"HEMISPHERE\"] = 0\n",
    "\n",
    "# assign 1 to Northern Hemisphere cities\n",
    "\n",
    "cityweather_df.loc[(cityweather_df[\"LAT\"] >= 0), \"HEMISPHERE\"] = 1\n",
    "\n",
    "northern_latitudes = cityweather_df[\"HEMISPHERE\"] == 1\n",
    "southern_latitudes = cityweather_df[\"HEMISPHERE\"] == 0"
   ]
  },
  {
   "cell_type": "markdown",
   "metadata": {},
   "source": [
    "####  Northern Hemisphere - Max Temp vs. Latitude Linear Regression"
   ]
  },
  {
   "cell_type": "code",
   "execution_count": 17,
   "metadata": {},
   "outputs": [
    {
     "data": {
      "image/png": "[encoded data removed]",
      "text/plain": [
       "<Figure size 432x288 with 1 Axes>"
      ]
     },
     "metadata": {
      "needs_background": "light"
     },
     "output_type": "display_data"
    },
    {
     "data": {
      "image/png": "[encoded data removed]",
      "text/plain": [
       "<Figure size 432x288 with 1 Axes>"
      ]
     },
     "metadata": {
      "needs_background": "light"
     },
     "output_type": "display_data"
    }
   ],
   "source": [
    "maxtemps = cityweather_df[northern_latitudes][\"MAXTEMP\"]\n",
    "latitudes = cityweather_df[northern_latitudes][\"LAT\"]\n",
    "\n",
    "plt.scatter(maxtemps, latitudes)\n",
    "plt.xticks(np.arange(min(maxtemps), max(maxtemps)+1, 5.0), rotation=45)\n",
    "plt.xlabel(\"Max Temps\")\n",
    "plt.ylabel(\"Latitudes\")\n",
    "plt.show()\n",
    "\n",
    "a_slope, a_int, a_r, a_p, a_std_err = linregress(maxtemps, latitudes) \n",
    "\n",
    "a_fit = a_slope * maxtemps + a_int \n",
    "\n",
    " # Plot the linear model on top of scatter plot \n",
    "    \n",
    "plt.scatter(maxtemps, latitudes)\n",
    "plt.plot(maxtemps, a_fit, \"--\")\n",
    "\n",
    "plt.xticks(np.arange(min(maxtemps), max(maxtemps)+1, 5.0), rotation=45)\n",
    "\n",
    "# plt.xticks(maxtemps, rotation=90)\n",
    "\n",
    "plt.xlabel(\"Max Temps\")\n",
    "plt.ylabel(\"Latitudes\")\n",
    "plt.show()"
   ]
  },
  {
   "cell_type": "markdown",
   "metadata": {},
   "source": [
    "####  Southern Hemisphere - Max Temp vs. Latitude Linear Regression"
   ]
  },
  {
   "cell_type": "code",
   "execution_count": 18,
   "metadata": {},
   "outputs": [
    {
     "data": {
      "image/png": "[encoded data removed]",
      "text/plain": [
       "<Figure size 432x288 with 1 Axes>"
      ]
     },
     "metadata": {
      "needs_background": "light"
     },
     "output_type": "display_data"
    },
    {
     "data": {
      "image/png": "[encoded data removed]",
      "text/plain": [
       "<Figure size 432x288 with 1 Axes>"
      ]
     },
     "metadata": {
      "needs_background": "light"
     },
     "output_type": "display_data"
    }
   ],
   "source": [
    "maxtemps = cityweather_df[southern_latitudes][\"MAXTEMP\"]\n",
    "latitudes = cityweather_df[southern_latitudes][\"LAT\"]\n",
    "\n",
    "plt.scatter(maxtemps, latitudes)\n",
    "plt.xticks(np.arange(min(maxtemps), max(maxtemps)+1, 5.0), rotation=45)\n",
    "plt.xlabel(\"Max Temps\")\n",
    "plt.ylabel(\"Latitudes\")\n",
    "plt.show()\n",
    "\n",
    "a_slope, a_int, a_r, a_p, a_std_err = linregress(maxtemps, latitudes) \n",
    "\n",
    "a_fit = a_slope * maxtemps + a_int \n",
    "\n",
    " # Plot the linear model on top of scatter plot \n",
    "    \n",
    "plt.scatter(maxtemps, latitudes)\n",
    "plt.plot(maxtemps, a_fit, \"--\")\n",
    "plt.xticks(np.arange(min(maxtemps), max(maxtemps)+1, 5.0), rotation=45)\n",
    "plt.xlabel(\"Max Temps\")\n",
    "plt.ylabel(\"Latitudes\")\n",
    "plt.show()"
   ]
  },
  {
   "cell_type": "markdown",
   "metadata": {},
   "source": [
    "####  Northern Hemisphere - Humidity (%) vs. Latitude Linear Regression"
   ]
  },
  {
   "cell_type": "code",
   "execution_count": 19,
   "metadata": {},
   "outputs": [
    {
     "data": {
      "image/png": "[encoded data removed]",
      "text/plain": [
       "<Figure size 432x288 with 1 Axes>"
      ]
     },
     "metadata": {
      "needs_background": "light"
     },
     "output_type": "display_data"
    },
    {
     "data": {
      "image/png": "[encoded data removed]",
      "text/plain": [
       "<Figure size 432x288 with 1 Axes>"
      ]
     },
     "metadata": {
      "needs_background": "light"
     },
     "output_type": "display_data"
    }
   ],
   "source": [
    "humidities = cityweather_df[northern_latitudes][\"HUMIDITY\"]\n",
    "latitudes = cityweather_df[northern_latitudes][\"LAT\"]\n",
    "\n",
    "plt.scatter(humidities, latitudes)\n",
    "plt.xticks(np.arange(min(humidities), max(humidities)+1, 5.0), rotation=45)\n",
    "plt.xlabel(\"Humidity (%)\")\n",
    "plt.ylabel(\"Latitudes\")\n",
    "plt.show()\n",
    "\n",
    "a_slope, a_int, a_r, a_p, a_std_err = linregress(humidities, latitudes) \n",
    "\n",
    "a_fit = a_slope * humidities + a_int \n",
    "\n",
    " # Plot the linear model on top of scatter plot \n",
    "    \n",
    "plt.scatter(humidities, latitudes)\n",
    "plt.plot(humidities, a_fit, \"--\")\n",
    "plt.xticks(np.arange(min(humidities), max(humidities)+1, 5.0), rotation=45)\n",
    "plt.xlabel(\"Humidity (%)\")\n",
    "plt.ylabel(\"Latitudes\")\n",
    "plt.show()"
   ]
  },
  {
   "cell_type": "markdown",
   "metadata": {},
   "source": [
    "####  Southern Hemisphere - Humidity (%) vs. Latitude Linear Regression"
   ]
  },
  {
   "cell_type": "code",
   "execution_count": 20,
   "metadata": {},
   "outputs": [
    {
     "data": {
      "image/png": "[encoded data removed]",
      "text/plain": [
       "<Figure size 432x288 with 1 Axes>"
      ]
     },
     "metadata": {
      "needs_background": "light"
     },
     "output_type": "display_data"
    },
    {
     "data": {
      "image/png": "[encoded data removed]",
      "text/plain": [
       "<Figure size 432x288 with 1 Axes>"
      ]
     },
     "metadata": {
      "needs_background": "light"
     },
     "output_type": "display_data"
    }
   ],
   "source": [
    "humidities = cityweather_df[southern_latitudes][\"HUMIDITY\"]\n",
    "latitudes = cityweather_df[southern_latitudes][\"LAT\"]\n",
    "\n",
    "plt.scatter(humidities, latitudes)\n",
    "plt.xticks(np.arange(min(humidities), max(humidities)+1, 5.0), rotation=45)\n",
    "plt.xlabel(\"Humidity (%)\")\n",
    "plt.ylabel(\"Latitudes\")\n",
    "plt.show()\n",
    "\n",
    "a_slope, a_int, a_r, a_p, a_std_err = linregress(humidities, latitudes) \n",
    "\n",
    "a_fit = a_slope * humidities + a_int \n",
    "\n",
    " # Plot the linear model on top of scatter plot \n",
    "    \n",
    "plt.scatter(humidities, latitudes)\n",
    "plt.plot(humidities, a_fit, \"--\")\n",
    "plt.xticks(np.arange(min(humidities), max(humidities)+1, 5.0), rotation=45)\n",
    "plt.xlabel(\"Humidity (%)\")\n",
    "plt.ylabel(\"Latitudes\")\n",
    "plt.show()"
   ]
  },
  {
   "cell_type": "markdown",
   "metadata": {},
   "source": [
    "####  Northern Hemisphere - Cloudiness (%) vs. Latitude Linear Regression"
   ]
  },
  {
   "cell_type": "code",
   "execution_count": 21,
   "metadata": {},
   "outputs": [
    {
     "data": {
      "image/png": "[encoded data removed]",
      "text/plain": [
       "<Figure size 432x288 with 1 Axes>"
      ]
     },
     "metadata": {
      "needs_background": "light"
     },
     "output_type": "display_data"
    },
    {
     "data": {
      "image/png": "[encoded data removed]",
      "text/plain": [
       "<Figure size 432x288 with 1 Axes>"
      ]
     },
     "metadata": {
      "needs_background": "light"
     },
     "output_type": "display_data"
    }
   ],
   "source": [
    "cloudinesses = cityweather_df[northern_latitudes][\"CLOUDINESS\"]\n",
    "latitudes = cityweather_df[northern_latitudes][\"LAT\"]\n",
    "\n",
    "plt.scatter(cloudinesses, latitudes)\n",
    "plt.xticks(np.arange(min(cloudinesses), max(cloudinesses)+1, 5.0), rotation=45)\n",
    "plt.xlabel(\"Cloudiness (%)\")\n",
    "plt.ylabel(\"Latitudes\")\n",
    "plt.show()\n",
    "\n",
    "a_slope, a_int, a_r, a_p, a_std_err = linregress(cloudinesses, latitudes) \n",
    "\n",
    "a_fit = a_slope * cloudinesses + a_int \n",
    "\n",
    " # Plot the linear model on top of scatter plot \n",
    "    \n",
    "plt.scatter(cloudinesses, latitudes)\n",
    "plt.plot(cloudinesses, a_fit, \"--\")\n",
    "plt.xticks(np.arange(min(cloudinesses), max(cloudinesses)+1, 5.0), rotation=45)\n",
    "plt.xlabel(\"Cloudiness (%)\")\n",
    "plt.ylabel(\"Latitudes\")\n",
    "plt.show()"
   ]
  },
  {
   "cell_type": "markdown",
   "metadata": {},
   "source": [
    "####  Southern Hemisphere - Cloudiness (%) vs. Latitude Linear Regression"
   ]
  },
  {
   "cell_type": "code",
   "execution_count": 22,
   "metadata": {},
   "outputs": [
    {
     "data": {
      "image/png": "[encoded data removed]",
      "text/plain": [
       "<Figure size 432x288 with 1 Axes>"
      ]
     },
     "metadata": {
      "needs_background": "light"
     },
     "output_type": "display_data"
    },
    {
     "data": {
      "image/png": "[encoded data removed]",
      "text/plain": [
       "<Figure size 432x288 with 1 Axes>"
      ]
     },
     "metadata": {
      "needs_background": "light"
     },
     "output_type": "display_data"
    }
   ],
   "source": [
    "cloudinesses = cityweather_df[southern_latitudes][\"CLOUDINESS\"]\n",
    "latitudes = cityweather_df[southern_latitudes][\"LAT\"]\n",
    "\n",
    "plt.scatter(cloudinesses, latitudes)\n",
    "plt.xticks(np.arange(min(cloudinesses), max(cloudinesses)+1, 5.0), rotation=45)\n",
    "plt.xlabel(\"Cloudiness (%)\")\n",
    "plt.ylabel(\"Latitudes\")\n",
    "plt.show()\n",
    "\n",
    "a_slope, a_int, a_r, a_p, a_std_err = linregress(cloudinesses, latitudes) \n",
    "\n",
    "a_fit = a_slope * cloudinesses + a_int \n",
    "\n",
    " # Plot the linear model on top of scatter plot \n",
    "    \n",
    "plt.scatter(cloudinesses, latitudes)\n",
    "plt.plot(cloudinesses, a_fit, \"--\")\n",
    "plt.xticks(np.arange(min(cloudinesses), max(cloudinesses)+1, 5.0), rotation=45)\n",
    "plt.xlabel(\"Cloudiness (%)\")\n",
    "plt.ylabel(\"Latitudes\")\n",
    "plt.show()"
   ]
  },
  {
   "cell_type": "markdown",
   "metadata": {},
   "source": [
    "####  Northern Hemisphere - Wind Speed (mph) vs. Latitude Linear Regression"
   ]
  },
  {
   "cell_type": "code",
   "execution_count": 23,
   "metadata": {},
   "outputs": [
    {
     "data": {
      "image/png": "[encoded data removed]",
      "text/plain": [
       "<Figure size 432x288 with 1 Axes>"
      ]
     },
     "metadata": {
      "needs_background": "light"
     },
     "output_type": "display_data"
    },
    {
     "data": {
      "image/png": "[encoded data removed]",
      "text/plain": [
       "<Figure size 432x288 with 1 Axes>"
      ]
     },
     "metadata": {
      "needs_background": "light"
     },
     "output_type": "display_data"
    }
   ],
   "source": [
    "windspeeds = cityweather_df[northern_latitudes][\"WINDSPEED\"]\n",
    "latitudes = cityweather_df[northern_latitudes][\"LAT\"]\n",
    "\n",
    "plt.scatter(windspeeds, latitudes)\n",
    "plt.xticks(np.arange(min(windspeeds), max(windspeeds)+1, 5.0), rotation=45)\n",
    "plt.xlabel(\"Wind Speed (mph)\")\n",
    "plt.ylabel(\"Latitudes\")\n",
    "plt.show()\n",
    "\n",
    "a_slope, a_int, a_r, a_p, a_std_err = linregress(windspeeds, latitudes) \n",
    "\n",
    "a_fit = a_slope * windspeeds + a_int \n",
    "\n",
    " # Plot the linear model on top of scatter plot \n",
    "    \n",
    "plt.scatter(windspeeds, latitudes)\n",
    "plt.plot(windspeeds, a_fit, \"--\")\n",
    "plt.xticks(np.arange(min(windspeeds), max(windspeeds)+1, 5.0), rotation=45)\n",
    "plt.xlabel(\"Wind Speed (mph)\")\n",
    "plt.ylabel(\"Latitudes\")\n",
    "plt.show()"
   ]
  },
  {
   "cell_type": "markdown",
   "metadata": {},
   "source": [
    "####  Southern Hemisphere - Wind Speed (mph) vs. Latitude Linear Regression"
   ]
  },
  {
   "cell_type": "code",
   "execution_count": 24,
   "metadata": {},
   "outputs": [
    {
     "data": {
      "image/png": "[encoded data removed]",
      "text/plain": [
       "<Figure size 432x288 with 1 Axes>"
      ]
     },
     "metadata": {
      "needs_background": "light"
     },
     "output_type": "display_data"
    },
    {
     "data": {
      "image/png": "[encoded data removed]",
      "text/plain": [
       "<Figure size 432x288 with 1 Axes>"
      ]
     },
     "metadata": {
      "needs_background": "light"
     },
     "output_type": "display_data"
    }
   ],
   "source": [
    "windspeeds = cityweather_df[southern_latitudes][\"WINDSPEED\"]\n",
    "latitudes = cityweather_df[southern_latitudes][\"LAT\"]\n",
    "\n",
    "plt.scatter(windspeeds, latitudes)\n",
    "plt.xticks(np.arange(min(windspeeds), max(windspeeds)+1, 5.0), rotation=45)\n",
    "plt.xlabel(\"Wind Speeds (mph)\")\n",
    "plt.ylabel(\"Latitudes\")\n",
    "plt.show()\n",
    "\n",
    "a_slope, a_int, a_r, a_p, a_std_err = linregress(windspeeds, latitudes) \n",
    "\n",
    "a_fit = a_slope * windspeeds + a_int \n",
    "\n",
    " # Plot the linear model on top of scatter plot \n",
    "    \n",
    "plt.scatter(windspeeds, latitudes)\n",
    "plt.plot(windspeeds, a_fit, \"--\")\n",
    "plt.xticks(np.arange(min(windspeeds), max(windspeeds)+1, 5.0), rotation=45)\n",
    "plt.xlabel(\"Wind Speeds (mph)\")\n",
    "plt.ylabel(\"Latitudes\")\n",
    "plt.show()"
   ]
  }
 ],
 "metadata": {
  "anaconda-cloud": {},
  "kernel_info": {
   "name": "python3"
  },
  "kernelspec": {
   "display_name": "Python 3 (ipykernel)",
   "language": "python",
   "name": "python3"
  },
  "language_info": {
   "codemirror_mode": {
    "name": "ipython",
    "version": 3
   },
   "file_extension": ".py",
   "mimetype": "text/x-python",
   "name": "python",
   "nbconvert_exporter": "python",
   "pygments_lexer": "ipython3",
   "version": "3.8.13"
  },
  "latex_envs": {
   "LaTeX_envs_menu_present": true,
   "autoclose": false,
   "autocomplete": true,
   "bibliofile": "biblio.bib",
   "cite_by": "apalike",
   "current_citInitial": 1,
   "eqLabelWithNumbers": true,
   "eqNumInitial": 1,
   "hotkeys": {
    "equation": "Ctrl-E",
    "itemize": "Ctrl-I"
   },
   "labels_anchors": false,
   "latex_user_defs": false,
   "report_style_numbering": false,
   "user_envs_cfg": false
  },
  "nteract": {
   "version": "0.12.3"
  }
 },
 "nbformat": 4,
 "nbformat_minor": 2
}
